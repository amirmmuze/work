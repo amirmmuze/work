{
 "cells": [
  {
   "cell_type": "code",
   "execution_count": 13,
   "metadata": {},
   "outputs": [],
   "source": [
    "from pymongo import MongoClient, CursorType\n",
    "from pymongo.cursor import Cursor\n",
    "from sshtunnel import SSHTunnelForwarder\n",
    "import asyncio\n",
    "import itertools\n",
    "import numpy as np\n",
    "\n",
    "import numpy as np\n",
    "import logging\n",
    "logger = logging.getLogger(__name__)\n",
    "import asyncio\n",
    "from angie.libs.singleton import singleton\n",
    "from angie.libs.mongo_utils import iterate_by_chunks\n",
    "from angie.datacontracts.msg_similarity import *\n",
    "from angie.datacontracts.msg import Message\n",
    "from angie.libs.tensorflow_utils import sim_exact\n",
    "from angie.service.app_config import AppConfig\n",
    "from angie.datacontracts.http.msg_filter import *\n",
    "from angie.datacontracts.http.msg_representation_response import *\n",
    "from angie.datacontracts.msg_rerpresentation import MsgEmbRepresentation\n",
    "from angie.service.managers.genie_msg_manager import GenieMsgManager\n",
    "from angie.datacontracts.msg_similarity import MsgSimilarity\n",
    "from angie.libs.embed.msg_representation import MsgRPRKey"
   ]
  },
  {
   "cell_type": "code",
   "execution_count": 2,
   "metadata": {},
   "outputs": [],
   "source": [
    "# MONGO_HOST = 'ec2-52-23-187-115.compute-1.amazonaws.com'\n",
    "# MONGO_DB = \"marketpulzz\"\n",
    "# server = SSHTunnelForwarder(\n",
    "#     MONGO_HOST,\n",
    "#     ssh_username='ubuntu',\n",
    "#     ssh_pkey=\"/Users/sasha/.ssh/mmuze.pem\",\n",
    "# #     ssh_private_key_password=\"secret\",\n",
    "#     remote_bind_address=('127.0.0.1', 27017),\n",
    "#     local_bind_address=('127.0.0.1', 63329),\n",
    "#     set_keepalive = 5,\n",
    "# )\n",
    "\n",
    "# server.start()\n",
    "# client = MongoClient('127.0.0.1', server.local_bind_port) # server.local_bind_port is assigned local port\n",
    "# db = client[MONGO_DB]"
   ]
  },
  {
   "cell_type": "code",
   "execution_count": 3,
   "metadata": {},
   "outputs": [],
   "source": [
    "MONGO_DB = \"marketpulzz\"\n",
    "client = MongoClient('127.0.0.1', 27017)\n",
    "\n",
    "# read_preference = ReadPreference.PRIMARY\n",
    "# mongo_hosts : [\"ec2-52-23-187-115.compute-1.amazonaws.com:27017\", \"ec2-52-90-96-8.compute-1.amazonaws.com:27017\"]\n",
    "# client = MongoClient(mongo_hosts, read_preference = read_preference)\n",
    "\n",
    "db = client[MONGO_DB]"
   ]
  },
  {
   "cell_type": "code",
   "execution_count": 4,
   "metadata": {},
   "outputs": [],
   "source": [
    "def iterate_by_chunks(collection, chunksize=1, batchsize=0, start_from=0, query={}, projection={}):\n",
    "    '''read mongo collection by chunks'''\n",
    "    chunks = range(start_from, collection.find(query).count(), int(chunksize))\n",
    "    num_chunks = len(chunks)\n",
    "    for i in range(1,num_chunks+1):\n",
    "        if i < num_chunks:\n",
    "            yield collection.find(query, projection=projection)[chunks[i-1]:chunks[i]]\n",
    "        else:\n",
    "            yield collection.find(query, projection=projection)[chunks[i-1]:chunks.stop]"
   ]
  },
  {
   "cell_type": "code",
   "execution_count": 5,
   "metadata": {},
   "outputs": [],
   "source": [
    "async def fetch_by_chunks(cursor: Cursor, chunk_size: 100):\n",
    "    current_chunk = []\n",
    "    for doc in cursor:\n",
    "        current_chunk.append(doc)\n",
    "        if len(current_chunk) == chunksize:\n",
    "            yield current_chunk\n",
    "            current_chunk = []\n",
    "    yield current_chunk  "
   ]
  },
  {
   "cell_type": "code",
   "execution_count": 14,
   "metadata": {},
   "outputs": [],
   "source": [
    "async def get_top_k_similar_msgs_for_query_vector_async(query_vector: np.ndarray, K: int, rpr_key: MsgRPRKey, sim_measure: SimilarityMeasure, messages_filter: MsgFilter=None, chunk_size=100) -> List[MsgSimilarity]:\n",
    "\n",
    "    _chunk_size = max(K, chunk_size)\n",
    "    msg_embs_iter = iterate_by_chunks(db.genie_conversation_messages_embs, chunksize=_chunk_size, start_from=0,\n",
    "                                        query={'rpr_key':rpr_key}, projection={ 'msg_vector':1, 'genie_conversation_message_id':1 })\n",
    "        \n",
    "    def get_top_k_similar(msg_sims: List[MsgSimilarity], K: int):        \n",
    "        k_similar = list(sorted(msg_sims, key=lambda ms: ms.similarity_score ,reverse=True))\n",
    "        top_k_similar = k_similar[:K]  \n",
    "        return top_k_similar\n",
    "    \n",
    "    msgs_queue = asyncio.Queue()\n",
    "    msg_sims_res = []\n",
    "    \n",
    "    async def enque_msgs(items: List) -> None:\n",
    "        chunk_n = chunk_n + 1\n",
    "        logging.info(f'chunk #: {chunk_n}, chunk_len: {len(items)}')\n",
    "        await msgs_queue.put(items)\n",
    "\n",
    "    \n",
    "    async def calc_sim():        \n",
    "        while True:\n",
    "            msgs_embs_docs = await msgs_queue.get()        \n",
    "            msg_vectors = list(map(lambda me: me['msg_vector'], msgs_embs_docs))\n",
    "            sims_res = sim_exact([query_vector], np.array(msg_vectors))        \n",
    "            sim_scores = {\n",
    "                    SimilarityMeasure.ANGDIST: sims_res[0],\n",
    "                    SimilarityMeasure.COSSIM: sims_res[1]\n",
    "                }.get(sim_measure)\n",
    "            msg_sims = [MsgSimilarity(str(msg['genie_conversation_message_id']), float(sim_score[0])) for msg, sim_score in zip(msgs_embs_docs, sim_scores)]\n",
    "            top_k_similar = get_top_k_similar(msg_sims, K)            \n",
    "            msg_sims_res.append(top_k_similar)    \n",
    "#             yield msg_sims\n",
    "            msgs_queue.task_done()\n",
    "   \n",
    "    top_k_similar = []\n",
    "    chunk_n = 0      \n",
    "    try:\n",
    "        sim_calculation_batch_size = 1000\n",
    "        num_sim_calculators = 10\n",
    "        producers = [asyncio.create_task(enque_msgs(fetch_by_chunks(msg_embs_cursor, chunk_size=sim_calculation_batch_size))) for msg_embs_cursor in msg_embs_iter]    \n",
    "        consumers = [asyncio.create_task(calc_sim) for n in range(num_sim_calculators)]\n",
    "        await asyncio.gather(*producers)\n",
    "        await msgs_queue.join()\n",
    "        for c in consumers:\n",
    "            c.cancel()\n",
    "    \n",
    "        msg_sims_res_flat = list(itertools.chain(*msg_sims_res))\n",
    "        top_k_similar = get_top_k_similar(msg_sims_res_flat, K)\n",
    "        \n",
    "        k_similar = list(sorted(msg_sims_res, key=lambda ms: ms.similarity_score ,reverse=True))\n",
    "        top_k_similar = k_similar[:K]\n",
    "    \n",
    "        \n",
    "    except Exception as e:\n",
    "        logger.exception(e)\n",
    "        raise e\n",
    "  \n",
    "    return top_k_similar\n",
    "   \n",
    "    \n"
   ]
  },
  {
   "cell_type": "code",
   "execution_count": 15,
   "metadata": {},
   "outputs": [
    {
     "ename": "AttributeError",
     "evalue": "module 'asyncio' has no attribute 'run'",
     "output_type": "error",
     "traceback": [
      "\u001b[0;31m---------------------------------------------------------------------------\u001b[0m",
      "\u001b[0;31mAttributeError\u001b[0m                            Traceback (most recent call last)",
      "\u001b[0;32m<ipython-input-15-2eb342e36a77>\u001b[0m in \u001b[0;36m<module>\u001b[0;34m\u001b[0m\n\u001b[0;32m----> 1\u001b[0;31m \u001b[0masyncio\u001b[0m\u001b[0;34m.\u001b[0m\u001b[0mrun\u001b[0m\u001b[0;34m(\u001b[0m\u001b[0mget_top_k_similar_msgs_for_query_vector_async\u001b[0m\u001b[0;34m)\u001b[0m\u001b[0;34m\u001b[0m\u001b[0;34m\u001b[0m\u001b[0m\n\u001b[0m",
      "\u001b[0;31mAttributeError\u001b[0m: module 'asyncio' has no attribute 'run'"
     ]
    }
   ],
   "source": [
    "asyncio.run(get_top_k_similar_msgs_for_query_vector_async)"
   ]
  },
  {
   "cell_type": "code",
   "execution_count": 17,
   "metadata": {},
   "outputs": [
    {
     "ename": "AttributeError",
     "evalue": "module 'asyncio' has no attribute 'run'",
     "output_type": "error",
     "traceback": [
      "\u001b[0;31m---------------------------------------------------------------------------\u001b[0m",
      "\u001b[0;31mAttributeError\u001b[0m                            Traceback (most recent call last)",
      "\u001b[0;32m<ipython-input-17-7f336cb84901>\u001b[0m in \u001b[0;36m<module>\u001b[0;34m\u001b[0m\n\u001b[0;32m----> 1\u001b[0;31m \u001b[0masyncio\u001b[0m\u001b[0;34m.\u001b[0m\u001b[0mrun\u001b[0m\u001b[0;34m\u001b[0m\u001b[0;34m\u001b[0m\u001b[0m\n\u001b[0m",
      "\u001b[0;31mAttributeError\u001b[0m: module 'asyncio' has no attribute 'run'"
     ]
    }
   ],
   "source": [
    "asyncio.run"
   ]
  },
  {
   "cell_type": "code",
   "execution_count": 18,
   "metadata": {},
   "outputs": [
    {
     "name": "stdout",
     "output_type": "stream",
     "text": [
      "Python 3.6.8 :: Anaconda, Inc.\n"
     ]
    }
   ],
   "source": [
    "!python --version\n"
   ]
  },
  {
   "cell_type": "code",
   "execution_count": null,
   "metadata": {},
   "outputs": [],
   "source": []
  }
 ],
 "metadata": {
  "kernelspec": {
   "display_name": "Python 3",
   "language": "python",
   "name": "python3"
  },
  "language_info": {
   "codemirror_mode": {
    "name": "ipython",
    "version": 3
   },
   "file_extension": ".py",
   "mimetype": "text/x-python",
   "name": "python",
   "nbconvert_exporter": "python",
   "pygments_lexer": "ipython3",
   "version": "3.6.8"
  }
 },
 "nbformat": 4,
 "nbformat_minor": 2
}
