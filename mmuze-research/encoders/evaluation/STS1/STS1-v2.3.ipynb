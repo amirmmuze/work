{
 "cells": [
  {
   "cell_type": "code",
   "execution_count": 2,
   "metadata": {},
   "outputs": [
    {
     "name": "stdout",
     "output_type": "stream",
     "text": [
      "Importing Jupyter notebook from common_functions_message.ipynb\n"
     ]
    }
   ],
   "source": [
    "from pymongo import MongoClient\n",
    "from sshtunnel import SSHTunnelForwarder\n",
    "import pprint\n",
    "from bson.objectid import ObjectId\n",
    "import pyperclip as clip\n",
    "import json\n",
    "import tensorflow as tf\n",
    "import pandas as pd\n",
    "import numpy as np\n",
    "import itertools as it\n",
    "# from datasu import auc\n",
    "# import pixiedust\n",
    "# clip.copy(json.dumps(m1['msg']))\n",
    "\n",
    "\n",
    "import nbimporter\n",
    "from nbimporter import NotebookLoader\n",
    "loader = NotebookLoader()\n",
    "from common_functions import *\n",
    "from common_functions_message import *\n",
    "Message = loader.load_module(\"common_functions_message\").Message\n",
    "\n",
    "pd.options.mode.chained_assignment = None  # default='warn'\n"
   ]
  },
  {
   "cell_type": "code",
   "execution_count": 3,
   "metadata": {},
   "outputs": [],
   "source": [
    "notebook_name = 'STS1-v2.3'"
   ]
  },
  {
   "cell_type": "markdown",
   "metadata": {},
   "source": [
    "### funcs"
   ]
  },
  {
   "cell_type": "code",
   "execution_count": 4,
   "metadata": {},
   "outputs": [],
   "source": [
    "def get_emb_from_cache(text, metadata):   \n",
    "    q = create_embeddings_cache_query(text,metadata)\n",
    "    emb_entry = db.embeddings_cache.find_one(q)\n",
    "    return emb_entry['vector']\n",
    "\n",
    "def count_value(value):\n",
    "    if isinstance(value,str):\n",
    "        values = [value]\n",
    "    else:\n",
    "        values = value    \n",
    "    return np.array(len(list((filter(lambda v: v!='*',values)))))\n",
    "\n",
    "def len_char_value(value): \n",
    "    if isinstance(value,list):\n",
    "        value = \"\".join(value)    \n",
    "    return np.array(len(value))\n",
    "\n",
    "def encode_value(value, metadata):\n",
    "    if isinstance(value,str):\n",
    "        values = [value]\n",
    "    else:\n",
    "        values = value\n",
    "            \n",
    "    embs_list = list(map(lambda v: get_emb_from_cache(v,metadata),values))\n",
    "    return np.array(embs_list)"
   ]
  },
  {
   "cell_type": "code",
   "execution_count": 5,
   "metadata": {},
   "outputs": [],
   "source": [
    "# def get_metadata(embs, field, index):\n",
    "#     meta = embs[field][index]\n",
    "#     dimensions = len(meta['vector'])\n",
    "#     del meta['vector']     \n",
    "#     metadata = {            \n",
    "#         **meta,\n",
    "#         **{'dimensions': dimensions}\n",
    "#     }\n",
    "#     return metadata"
   ]
  },
  {
   "cell_type": "markdown",
   "metadata": {},
   "source": [
    "### load data"
   ]
  },
  {
   "cell_type": "code",
   "execution_count": 6,
   "metadata": {},
   "outputs": [],
   "source": [
    "# MONGO_HOST = \"ec2-52-23-187-115.compute-1.amazonaws.com\"\n",
    "# MONGO_DB = \"marketpulzz\"\n",
    "# server = SSHTunnelForwarder(\n",
    "#     MONGO_HOST,\n",
    "#     ssh_username='ubuntu',\n",
    "#     ssh_pkey=\"/Users/sasha/.ssh/mmuze.pem\",\n",
    "# #     ssh_private_key_password=\"secret\",\n",
    "#     remote_bind_address=('127.0.0.1', 27017),\n",
    "#     local_bind_address=('127.0.0.1', 63327),\n",
    "#     set_keepalive = 5,\n",
    "# )\n",
    "\n",
    "# server.start()\n",
    "# client = MongoClient('127.0.0.1', server.local_bind_port) # server.local_bind_port is assigned local port\n",
    "# db = client[MONGO_DB]"
   ]
  },
  {
   "cell_type": "code",
   "execution_count": 7,
   "metadata": {},
   "outputs": [],
   "source": [
    "MONGO_DB = \"marketpulzz\"\n",
    "client = MongoClient('127.0.0.1', 27017)\n",
    "db = client[MONGO_DB]"
   ]
  },
  {
   "cell_type": "code",
   "execution_count": 8,
   "metadata": {},
   "outputs": [],
   "source": [
    "# m = db.genie_conversation_messages_emb.find_one({})\n",
    "\n",
    "# bert_embs_map = {\n",
    "#     'text': 15\n",
    "# }\n",
    "\n",
    "# bert_metadata = get_metadata(m['embs'],'text',bert_embs_map['text'])\n",
    "# bert_metadata"
   ]
  },
  {
   "cell_type": "code",
   "execution_count": 9,
   "metadata": {},
   "outputs": [
    {
     "data": {
      "text/plain": [
       "['text',\n",
       " 'positive_product_type_tags',\n",
       " 'negative_product_type_tags',\n",
       " 'positive_aspects',\n",
       " 'negative_aspects']"
      ]
     },
     "execution_count": 9,
     "metadata": {},
     "output_type": "execute_result"
    }
   ],
   "source": [
    "sample_mt = db.genie_master_tags.find_one({\"intents.0\":{'$exists':True}})\n",
    "mess = db.genie_conversation_messages.find_one({\"_id\": sample_mt['conversation_message_id']})    \n",
    "fields = list(map(lambda f: f[0], Message(mess).get_fields_for_vector()))\n",
    "fields"
   ]
  },
  {
   "cell_type": "code",
   "execution_count": 10,
   "metadata": {},
   "outputs": [],
   "source": [
    "# fixed_cat_values = 2\n",
    "fields_vector_len = {   \n",
    "}\n",
    "fields_vector_desc = {  \n",
    " 'positive_product_type_tags': 'len',\n",
    " 'negative_product_type_tags': 'len',\n",
    " 'positive_aspects': 'len',\n",
    " 'negative_aspects': 'len',\n",
    " 'text': 'len_char'\n",
    "}\n",
    "\n",
    "exp_metadata = {    \n",
    "  'msg_vector_desc': fields_vector_desc,\n",
    "  'fields': fields\n",
    "}"
   ]
  },
  {
   "cell_type": "code",
   "execution_count": 11,
   "metadata": {},
   "outputs": [],
   "source": [
    "def get_message_for_master_tag(mt):   \n",
    "    mess = db.genie_conversation_messages.find_one({\"_id\": mt['conversation_message_id']})    \n",
    "    fields = Message(mess).get_fields_for_vector(fixed_length_by_field=fields_vector_len, fld_name_suffix=None)\n",
    "    \n",
    "#     def extr_intent(intent):\n",
    "#         row = {**{'intent':intent['name'], 'tag':intent['tag']}, **dict(fields)}   \n",
    "#         retun \n",
    "    intents = mt['intents']\n",
    "    rows = list(map(lambda intent:{**{'intent':intent['name'], 'tag':intent['tag']}, **dict(fields)}, intents))\n",
    "    return rows\n",
    "    \n",
    "master_tags_cursor = db.genie_master_tags.find({\"intents.0\":{'$exists':True}})\n",
    "data = list(it.chain(*map(get_message_for_master_tag, master_tags_cursor)))"
   ]
  },
  {
   "cell_type": "code",
   "execution_count": 12,
   "metadata": {},
   "outputs": [
    {
     "data": {
      "text/html": [
       "<div>\n",
       "<style scoped>\n",
       "    .dataframe tbody tr th:only-of-type {\n",
       "        vertical-align: middle;\n",
       "    }\n",
       "\n",
       "    .dataframe tbody tr th {\n",
       "        vertical-align: top;\n",
       "    }\n",
       "\n",
       "    .dataframe thead th {\n",
       "        text-align: right;\n",
       "    }\n",
       "</style>\n",
       "<table border=\"1\" class=\"dataframe\">\n",
       "  <thead>\n",
       "    <tr style=\"text-align: right;\">\n",
       "      <th></th>\n",
       "      <th>intent</th>\n",
       "      <th>negative_aspects</th>\n",
       "      <th>negative_product_type_tags</th>\n",
       "      <th>positive_aspects</th>\n",
       "      <th>positive_product_type_tags</th>\n",
       "      <th>tag</th>\n",
       "      <th>text</th>\n",
       "    </tr>\n",
       "  </thead>\n",
       "  <tbody>\n",
       "    <tr>\n",
       "      <th>0</th>\n",
       "      <td>More</td>\n",
       "      <td>[]</td>\n",
       "      <td>[]</td>\n",
       "      <td>[]</td>\n",
       "      <td>[]</td>\n",
       "      <td>true</td>\n",
       "      <td>[more]</td>\n",
       "    </tr>\n",
       "    <tr>\n",
       "      <th>21</th>\n",
       "      <td>More</td>\n",
       "      <td>[]</td>\n",
       "      <td>[]</td>\n",
       "      <td>[]</td>\n",
       "      <td>[]</td>\n",
       "      <td>true</td>\n",
       "      <td>[more option]</td>\n",
       "    </tr>\n",
       "    <tr>\n",
       "      <th>22</th>\n",
       "      <td>More</td>\n",
       "      <td>[]</td>\n",
       "      <td>[]</td>\n",
       "      <td>[]</td>\n",
       "      <td>[]</td>\n",
       "      <td>true</td>\n",
       "      <td>[more options]</td>\n",
       "    </tr>\n",
       "    <tr>\n",
       "      <th>23</th>\n",
       "      <td>More</td>\n",
       "      <td>[]</td>\n",
       "      <td>[]</td>\n",
       "      <td>[]</td>\n",
       "      <td>[]</td>\n",
       "      <td>true</td>\n",
       "      <td>[more options please]</td>\n",
       "    </tr>\n",
       "    <tr>\n",
       "      <th>26</th>\n",
       "      <td>More</td>\n",
       "      <td>[]</td>\n",
       "      <td>[]</td>\n",
       "      <td>[]</td>\n",
       "      <td>[]</td>\n",
       "      <td>true</td>\n",
       "      <td>[More products]</td>\n",
       "    </tr>\n",
       "  </tbody>\n",
       "</table>\n",
       "</div>"
      ],
      "text/plain": [
       "   intent negative_aspects negative_product_type_tags positive_aspects  \\\n",
       "0    More               []                         []               []   \n",
       "21   More               []                         []               []   \n",
       "22   More               []                         []               []   \n",
       "23   More               []                         []               []   \n",
       "26   More               []                         []               []   \n",
       "\n",
       "   positive_product_type_tags   tag                   text  \n",
       "0                          []  true                 [more]  \n",
       "21                         []  true          [more option]  \n",
       "22                         []  true         [more options]  \n",
       "23                         []  true  [more options please]  \n",
       "26                         []  true        [More products]  "
      ]
     },
     "execution_count": 12,
     "metadata": {},
     "output_type": "execute_result"
    }
   ],
   "source": [
    "df_data_all_unfiltered = pd.DataFrame(data)\n",
    "df_data_all = df_data_all_unfiltered.loc[df_data_all_unfiltered.tag=='true'].copy()\n",
    "# df_data_all[0:150]['intent'] = 'refund'\n",
    "# df_data_all[0:150]['text'] = 'I want my money back as soon as possible. Thanks'\n",
    "df_data_all.head()"
   ]
  },
  {
   "cell_type": "code",
   "execution_count": 13,
   "metadata": {},
   "outputs": [
    {
     "data": {
      "text/plain": [
       "<matplotlib.axes._subplots.AxesSubplot at 0x1311cd3c8>"
      ]
     },
     "execution_count": 13,
     "metadata": {},
     "output_type": "execute_result"
    },
    {
     "data": {
      "image/png": "[encoded data removed]",
      "text/plain": [
       "<Figure size 432x288 with 1 Axes>"
      ]
     },
     "metadata": {
      "needs_background": "light"
     },
     "output_type": "display_data"
    }
   ],
   "source": [
    "# np.histogram(df_data_all['negative_product_type_tags'].apply(len))\n",
    "df_data_all_unfiltered['positive_aspects'].apply(len).hist()"
   ]
  },
  {
   "cell_type": "markdown",
   "metadata": {},
   "source": [
    "### encode data"
   ]
  },
  {
   "cell_type": "markdown",
   "metadata": {},
   "source": [
    "##### BERT"
   ]
  },
  {
   "cell_type": "code",
   "execution_count": 20,
   "metadata": {},
   "outputs": [],
   "source": [
    "bert_metadata = {            \n",
    "    'version': '1.0',\n",
    "    'encoder': 'BERT',\n",
    "    'model': 'uncased_L-12_H-768_A-12',    \n",
    "    'max_seq_len': 200,\n",
    "    'pooling_strategy': 'REDUCE_MEAN', \n",
    "    'pooling_layer': '-5',\n",
    "    'dimensions':768\n",
    "}"
   ]
  },
  {
   "cell_type": "code",
   "execution_count": 21,
   "metadata": {},
   "outputs": [
    {
     "name": "stdout",
     "output_type": "stream",
     "text": [
      "CPU times: user 236 ms, sys: 3.57 ms, total: 239 ms\n",
      "Wall time: 238 ms\n"
     ]
    }
   ],
   "source": [
    "%%time\n",
    "bert_embs = df_data_all[fields].applymap(lambda v: count_value(v))\n",
    "bert_embs['text'] = df_data_all[['text']].applymap(lambda v: len_char_value(v))\n",
    "df_data_all['emb_bert'] = bert_embs.apply(lambda cols_embs: np.concatenate(cols_embs, axis=None), axis=1)"
   ]
  },
  {
   "cell_type": "code",
   "execution_count": 53,
   "metadata": {},
   "outputs": [
    {
     "data": {
      "text/html": [
       "<div>\n",
       "<style scoped>\n",
       "    .dataframe tbody tr th:only-of-type {\n",
       "        vertical-align: middle;\n",
       "    }\n",
       "\n",
       "    .dataframe tbody tr th {\n",
       "        vertical-align: top;\n",
       "    }\n",
       "\n",
       "    .dataframe thead th {\n",
       "        text-align: right;\n",
       "    }\n",
       "</style>\n",
       "<table border=\"1\" class=\"dataframe\">\n",
       "  <thead>\n",
       "    <tr style=\"text-align: right;\">\n",
       "      <th></th>\n",
       "      <th>intent</th>\n",
       "      <th>negative_aspects</th>\n",
       "      <th>negative_product_type_tags</th>\n",
       "      <th>positive_aspects</th>\n",
       "      <th>positive_product_type_tags</th>\n",
       "      <th>tag</th>\n",
       "      <th>text</th>\n",
       "      <th>emb_bert</th>\n",
       "      <th>emb_use</th>\n",
       "      <th>intent_prob</th>\n",
       "    </tr>\n",
       "  </thead>\n",
       "  <tbody>\n",
       "    <tr>\n",
       "      <th>0</th>\n",
       "      <td>More</td>\n",
       "      <td>[]</td>\n",
       "      <td>[]</td>\n",
       "      <td>[]</td>\n",
       "      <td>[]</td>\n",
       "      <td>true</td>\n",
       "      <td>[more]</td>\n",
       "      <td>[4, 0, 0, 0, 0]</td>\n",
       "      <td>[4, 0, 0, 0, 0]</td>\n",
       "      <td>1.0</td>\n",
       "    </tr>\n",
       "    <tr>\n",
       "      <th>21</th>\n",
       "      <td>More</td>\n",
       "      <td>[]</td>\n",
       "      <td>[]</td>\n",
       "      <td>[]</td>\n",
       "      <td>[]</td>\n",
       "      <td>true</td>\n",
       "      <td>[more option]</td>\n",
       "      <td>[11, 0, 0, 0, 0]</td>\n",
       "      <td>[11, 0, 0, 0, 0]</td>\n",
       "      <td>1.0</td>\n",
       "    </tr>\n",
       "    <tr>\n",
       "      <th>22</th>\n",
       "      <td>More</td>\n",
       "      <td>[]</td>\n",
       "      <td>[]</td>\n",
       "      <td>[]</td>\n",
       "      <td>[]</td>\n",
       "      <td>true</td>\n",
       "      <td>[more options]</td>\n",
       "      <td>[12, 0, 0, 0, 0]</td>\n",
       "      <td>[12, 0, 0, 0, 0]</td>\n",
       "      <td>1.0</td>\n",
       "    </tr>\n",
       "    <tr>\n",
       "      <th>23</th>\n",
       "      <td>More</td>\n",
       "      <td>[]</td>\n",
       "      <td>[]</td>\n",
       "      <td>[]</td>\n",
       "      <td>[]</td>\n",
       "      <td>true</td>\n",
       "      <td>[more options please]</td>\n",
       "      <td>[19, 0, 0, 0, 0]</td>\n",
       "      <td>[19, 0, 0, 0, 0]</td>\n",
       "      <td>1.0</td>\n",
       "    </tr>\n",
       "    <tr>\n",
       "      <th>26</th>\n",
       "      <td>More</td>\n",
       "      <td>[]</td>\n",
       "      <td>[]</td>\n",
       "      <td>[]</td>\n",
       "      <td>[]</td>\n",
       "      <td>true</td>\n",
       "      <td>[More products]</td>\n",
       "      <td>[13, 0, 0, 0, 0]</td>\n",
       "      <td>[13, 0, 0, 0, 0]</td>\n",
       "      <td>1.0</td>\n",
       "    </tr>\n",
       "  </tbody>\n",
       "</table>\n",
       "</div>"
      ],
      "text/plain": [
       "   intent negative_aspects negative_product_type_tags positive_aspects  \\\n",
       "0    More               []                         []               []   \n",
       "21   More               []                         []               []   \n",
       "22   More               []                         []               []   \n",
       "23   More               []                         []               []   \n",
       "26   More               []                         []               []   \n",
       "\n",
       "   positive_product_type_tags   tag                   text          emb_bert  \\\n",
       "0                          []  true                 [more]   [4, 0, 0, 0, 0]   \n",
       "21                         []  true          [more option]  [11, 0, 0, 0, 0]   \n",
       "22                         []  true         [more options]  [12, 0, 0, 0, 0]   \n",
       "23                         []  true  [more options please]  [19, 0, 0, 0, 0]   \n",
       "26                         []  true        [More products]  [13, 0, 0, 0, 0]   \n",
       "\n",
       "             emb_use  intent_prob  \n",
       "0    [4, 0, 0, 0, 0]          1.0  \n",
       "21  [11, 0, 0, 0, 0]          1.0  \n",
       "22  [12, 0, 0, 0, 0]          1.0  \n",
       "23  [19, 0, 0, 0, 0]          1.0  \n",
       "26  [13, 0, 0, 0, 0]          1.0  "
      ]
     },
     "execution_count": 53,
     "metadata": {},
     "output_type": "execute_result"
    }
   ],
   "source": [
    "df_data_all.head()"
   ]
  },
  {
   "cell_type": "markdown",
   "metadata": {},
   "source": [
    "##### USE"
   ]
  },
  {
   "cell_type": "code",
   "execution_count": 23,
   "metadata": {},
   "outputs": [],
   "source": [
    "use_metadata = {\n",
    "    'version': '1.0',\n",
    "    'encoder': 'USE',   \n",
    "    'model': 'https://tfhub.dev/google/universal-sentence-encoder-large/3',\n",
    "    'dimensions':512\n",
    "}"
   ]
  },
  {
   "cell_type": "code",
   "execution_count": 24,
   "metadata": {},
   "outputs": [
    {
     "name": "stdout",
     "output_type": "stream",
     "text": [
      "CPU times: user 232 ms, sys: 5.18 ms, total: 237 ms\n",
      "Wall time: 234 ms\n"
     ]
    }
   ],
   "source": [
    "%%time\n",
    "use_embs = df_data_all[fields].applymap(lambda v: count_value(v))\n",
    "use_embs['text'] = df_data_all[['text']].applymap(lambda v: len_char_value(v))\n",
    "df_data_all['emb_use'] = use_embs.apply(lambda cols_embs: np.concatenate(cols_embs, axis=None), axis=1)"
   ]
  },
  {
   "cell_type": "code",
   "execution_count": 25,
   "metadata": {},
   "outputs": [
    {
     "data": {
      "text/html": [
       "<div>\n",
       "<style scoped>\n",
       "    .dataframe tbody tr th:only-of-type {\n",
       "        vertical-align: middle;\n",
       "    }\n",
       "\n",
       "    .dataframe tbody tr th {\n",
       "        vertical-align: top;\n",
       "    }\n",
       "\n",
       "    .dataframe thead th {\n",
       "        text-align: right;\n",
       "    }\n",
       "</style>\n",
       "<table border=\"1\" class=\"dataframe\">\n",
       "  <thead>\n",
       "    <tr style=\"text-align: right;\">\n",
       "      <th></th>\n",
       "      <th>intent</th>\n",
       "      <th>negative_aspects</th>\n",
       "      <th>negative_product_type_tags</th>\n",
       "      <th>positive_aspects</th>\n",
       "      <th>positive_product_type_tags</th>\n",
       "      <th>tag</th>\n",
       "      <th>text</th>\n",
       "      <th>emb_bert</th>\n",
       "      <th>emb_use</th>\n",
       "    </tr>\n",
       "  </thead>\n",
       "  <tbody>\n",
       "    <tr>\n",
       "      <th>0</th>\n",
       "      <td>More</td>\n",
       "      <td>[]</td>\n",
       "      <td>[]</td>\n",
       "      <td>[]</td>\n",
       "      <td>[]</td>\n",
       "      <td>true</td>\n",
       "      <td>[more]</td>\n",
       "      <td>[4, 0, 0, 0, 0]</td>\n",
       "      <td>[4, 0, 0, 0, 0]</td>\n",
       "    </tr>\n",
       "    <tr>\n",
       "      <th>21</th>\n",
       "      <td>More</td>\n",
       "      <td>[]</td>\n",
       "      <td>[]</td>\n",
       "      <td>[]</td>\n",
       "      <td>[]</td>\n",
       "      <td>true</td>\n",
       "      <td>[more option]</td>\n",
       "      <td>[11, 0, 0, 0, 0]</td>\n",
       "      <td>[11, 0, 0, 0, 0]</td>\n",
       "    </tr>\n",
       "    <tr>\n",
       "      <th>22</th>\n",
       "      <td>More</td>\n",
       "      <td>[]</td>\n",
       "      <td>[]</td>\n",
       "      <td>[]</td>\n",
       "      <td>[]</td>\n",
       "      <td>true</td>\n",
       "      <td>[more options]</td>\n",
       "      <td>[12, 0, 0, 0, 0]</td>\n",
       "      <td>[12, 0, 0, 0, 0]</td>\n",
       "    </tr>\n",
       "    <tr>\n",
       "      <th>23</th>\n",
       "      <td>More</td>\n",
       "      <td>[]</td>\n",
       "      <td>[]</td>\n",
       "      <td>[]</td>\n",
       "      <td>[]</td>\n",
       "      <td>true</td>\n",
       "      <td>[more options please]</td>\n",
       "      <td>[19, 0, 0, 0, 0]</td>\n",
       "      <td>[19, 0, 0, 0, 0]</td>\n",
       "    </tr>\n",
       "    <tr>\n",
       "      <th>26</th>\n",
       "      <td>More</td>\n",
       "      <td>[]</td>\n",
       "      <td>[]</td>\n",
       "      <td>[]</td>\n",
       "      <td>[]</td>\n",
       "      <td>true</td>\n",
       "      <td>[More products]</td>\n",
       "      <td>[13, 0, 0, 0, 0]</td>\n",
       "      <td>[13, 0, 0, 0, 0]</td>\n",
       "    </tr>\n",
       "  </tbody>\n",
       "</table>\n",
       "</div>"
      ],
      "text/plain": [
       "   intent negative_aspects negative_product_type_tags positive_aspects  \\\n",
       "0    More               []                         []               []   \n",
       "21   More               []                         []               []   \n",
       "22   More               []                         []               []   \n",
       "23   More               []                         []               []   \n",
       "26   More               []                         []               []   \n",
       "\n",
       "   positive_product_type_tags   tag                   text          emb_bert  \\\n",
       "0                          []  true                 [more]   [4, 0, 0, 0, 0]   \n",
       "21                         []  true          [more option]  [11, 0, 0, 0, 0]   \n",
       "22                         []  true         [more options]  [12, 0, 0, 0, 0]   \n",
       "23                         []  true  [more options please]  [19, 0, 0, 0, 0]   \n",
       "26                         []  true        [More products]  [13, 0, 0, 0, 0]   \n",
       "\n",
       "             emb_use  \n",
       "0    [4, 0, 0, 0, 0]  \n",
       "21  [11, 0, 0, 0, 0]  \n",
       "22  [12, 0, 0, 0, 0]  \n",
       "23  [19, 0, 0, 0, 0]  \n",
       "26  [13, 0, 0, 0, 0]  "
      ]
     },
     "execution_count": 25,
     "metadata": {},
     "output_type": "execute_result"
    }
   ],
   "source": [
    "df_data_all.head()"
   ]
  },
  {
   "cell_type": "markdown",
   "metadata": {},
   "source": [
    "### evaluation"
   ]
  },
  {
   "cell_type": "code",
   "execution_count": 26,
   "metadata": {},
   "outputs": [
    {
     "data": {
      "text/html": [
       "<div>\n",
       "<style scoped>\n",
       "    .dataframe tbody tr th:only-of-type {\n",
       "        vertical-align: middle;\n",
       "    }\n",
       "\n",
       "    .dataframe tbody tr th {\n",
       "        vertical-align: top;\n",
       "    }\n",
       "\n",
       "    .dataframe thead tr th {\n",
       "        text-align: left;\n",
       "    }\n",
       "\n",
       "    .dataframe thead tr:last-of-type th {\n",
       "        text-align: right;\n",
       "    }\n",
       "</style>\n",
       "<table border=\"1\" class=\"dataframe\">\n",
       "  <thead>\n",
       "    <tr>\n",
       "      <th></th>\n",
       "      <th colspan=\"3\" halign=\"left\">count</th>\n",
       "    </tr>\n",
       "    <tr>\n",
       "      <th>tag</th>\n",
       "      <th>amb</th>\n",
       "      <th>false</th>\n",
       "      <th>true</th>\n",
       "    </tr>\n",
       "    <tr>\n",
       "      <th>name</th>\n",
       "      <th></th>\n",
       "      <th></th>\n",
       "      <th></th>\n",
       "    </tr>\n",
       "  </thead>\n",
       "  <tbody>\n",
       "    <tr>\n",
       "      <th>Add to Wishlist</th>\n",
       "      <td>NaN</td>\n",
       "      <td>18.0</td>\n",
       "      <td>4.0</td>\n",
       "    </tr>\n",
       "    <tr>\n",
       "      <th>Back</th>\n",
       "      <td>NaN</td>\n",
       "      <td>29.0</td>\n",
       "      <td>17.0</td>\n",
       "    </tr>\n",
       "    <tr>\n",
       "      <th>Compare</th>\n",
       "      <td>NaN</td>\n",
       "      <td>24.0</td>\n",
       "      <td>NaN</td>\n",
       "    </tr>\n",
       "    <tr>\n",
       "      <th>Complementary</th>\n",
       "      <td>NaN</td>\n",
       "      <td>105.0</td>\n",
       "      <td>63.0</td>\n",
       "    </tr>\n",
       "    <tr>\n",
       "      <th>Customer Support</th>\n",
       "      <td>1.0</td>\n",
       "      <td>26.0</td>\n",
       "      <td>631.0</td>\n",
       "    </tr>\n",
       "    <tr>\n",
       "      <th>Frustration</th>\n",
       "      <td>8.0</td>\n",
       "      <td>97.0</td>\n",
       "      <td>13.0</td>\n",
       "    </tr>\n",
       "    <tr>\n",
       "      <th>Help</th>\n",
       "      <td>NaN</td>\n",
       "      <td>48.0</td>\n",
       "      <td>16.0</td>\n",
       "    </tr>\n",
       "    <tr>\n",
       "      <th>Introduction</th>\n",
       "      <td>NaN</td>\n",
       "      <td>17.0</td>\n",
       "      <td>8.0</td>\n",
       "    </tr>\n",
       "    <tr>\n",
       "      <th>More</th>\n",
       "      <td>34.0</td>\n",
       "      <td>32.0</td>\n",
       "      <td>17.0</td>\n",
       "    </tr>\n",
       "    <tr>\n",
       "      <th>New Facecare Regimen</th>\n",
       "      <td>NaN</td>\n",
       "      <td>238.0</td>\n",
       "      <td>95.0</td>\n",
       "    </tr>\n",
       "    <tr>\n",
       "      <th>Order Information</th>\n",
       "      <td>NaN</td>\n",
       "      <td>116.0</td>\n",
       "      <td>367.0</td>\n",
       "    </tr>\n",
       "    <tr>\n",
       "      <th>Product Aspect Information</th>\n",
       "      <td>NaN</td>\n",
       "      <td>122.0</td>\n",
       "      <td>90.0</td>\n",
       "    </tr>\n",
       "    <tr>\n",
       "      <th>Product not found</th>\n",
       "      <td>NaN</td>\n",
       "      <td>128.0</td>\n",
       "      <td>396.0</td>\n",
       "    </tr>\n",
       "    <tr>\n",
       "      <th>Shop new arrivals</th>\n",
       "      <td>2.0</td>\n",
       "      <td>1.0</td>\n",
       "      <td>4.0</td>\n",
       "    </tr>\n",
       "  </tbody>\n",
       "</table>\n",
       "</div>"
      ],
      "text/plain": [
       "                           count              \n",
       "tag                          amb  false   true\n",
       "name                                          \n",
       "Add to Wishlist              NaN   18.0    4.0\n",
       "Back                         NaN   29.0   17.0\n",
       "Compare                      NaN   24.0    NaN\n",
       "Complementary                NaN  105.0   63.0\n",
       "Customer Support             1.0   26.0  631.0\n",
       "Frustration                  8.0   97.0   13.0\n",
       "Help                         NaN   48.0   16.0\n",
       "Introduction                 NaN   17.0    8.0\n",
       "More                        34.0   32.0   17.0\n",
       "New Facecare Regimen         NaN  238.0   95.0\n",
       "Order Information            NaN  116.0  367.0\n",
       "Product Aspect Information   NaN  122.0   90.0\n",
       "Product not found            NaN  128.0  396.0\n",
       "Shop new arrivals            2.0    1.0    4.0"
      ]
     },
     "execution_count": 26,
     "metadata": {},
     "output_type": "execute_result"
    }
   ],
   "source": [
    "pipeline = [\n",
    "{'$unwind': '$intents'},\n",
    "{'$project' : {'_id': 0, 'intents.name' : 1 , 'intents.category' : 1, 'intents.tag' : 1 } },\n",
    "{'$group' : {\n",
    "       '_id' : { \n",
    "            'name': \"$intents.name\", \n",
    "            'category': '$intents.category', \n",
    "            'tag': '$intents.tag' \n",
    "        },\n",
    "        'name': {'$first': \"$intents.name\"}, \n",
    "        'category': {'$first':'$intents.category'}, \n",
    "        'tag': {'$first':'$intents.tag'},      \n",
    "        'count': { '$sum': 1 }\n",
    "    }\n",
    "},\n",
    "{'$project' : {'_id': 0, 'name' : 1 , 'category' : 1, 'tag' : 1,'count' : 1 }}\n",
    "]\n",
    "\n",
    "master_tag_stats = list(db.genie_master_tags.aggregate(pipeline))\n",
    "df_master_tag_stats = pd.DataFrame(master_tag_stats, columns=['category','name','tag','count'])\n",
    "df_master_tag_stats.pivot(index='name',values=['count'],columns='tag')"
   ]
  },
  {
   "cell_type": "code",
   "execution_count": 27,
   "metadata": {},
   "outputs": [
    {
     "name": "stdout",
     "output_type": "stream",
     "text": [
      "max message length:  1\n"
     ]
    },
    {
     "data": {
      "text/html": [
       "<div>\n",
       "<style scoped>\n",
       "    .dataframe tbody tr th:only-of-type {\n",
       "        vertical-align: middle;\n",
       "    }\n",
       "\n",
       "    .dataframe tbody tr th {\n",
       "        vertical-align: top;\n",
       "    }\n",
       "\n",
       "    .dataframe thead th {\n",
       "        text-align: right;\n",
       "    }\n",
       "</style>\n",
       "<table border=\"1\" class=\"dataframe\">\n",
       "  <thead>\n",
       "    <tr style=\"text-align: right;\">\n",
       "      <th></th>\n",
       "      <th>intent</th>\n",
       "      <th>negative_aspects</th>\n",
       "      <th>negative_product_type_tags</th>\n",
       "      <th>positive_aspects</th>\n",
       "      <th>positive_product_type_tags</th>\n",
       "      <th>tag</th>\n",
       "      <th>text</th>\n",
       "      <th>emb_bert</th>\n",
       "      <th>emb_use</th>\n",
       "      <th>intent_prob</th>\n",
       "    </tr>\n",
       "  </thead>\n",
       "  <tbody>\n",
       "    <tr>\n",
       "      <th>0</th>\n",
       "      <td>More</td>\n",
       "      <td>[]</td>\n",
       "      <td>[]</td>\n",
       "      <td>[]</td>\n",
       "      <td>[]</td>\n",
       "      <td>true</td>\n",
       "      <td>[more]</td>\n",
       "      <td>[4, 0, 0, 0, 0]</td>\n",
       "      <td>[4, 0, 0, 0, 0]</td>\n",
       "      <td>1.0</td>\n",
       "    </tr>\n",
       "    <tr>\n",
       "      <th>21</th>\n",
       "      <td>More</td>\n",
       "      <td>[]</td>\n",
       "      <td>[]</td>\n",
       "      <td>[]</td>\n",
       "      <td>[]</td>\n",
       "      <td>true</td>\n",
       "      <td>[more option]</td>\n",
       "      <td>[11, 0, 0, 0, 0]</td>\n",
       "      <td>[11, 0, 0, 0, 0]</td>\n",
       "      <td>1.0</td>\n",
       "    </tr>\n",
       "    <tr>\n",
       "      <th>22</th>\n",
       "      <td>More</td>\n",
       "      <td>[]</td>\n",
       "      <td>[]</td>\n",
       "      <td>[]</td>\n",
       "      <td>[]</td>\n",
       "      <td>true</td>\n",
       "      <td>[more options]</td>\n",
       "      <td>[12, 0, 0, 0, 0]</td>\n",
       "      <td>[12, 0, 0, 0, 0]</td>\n",
       "      <td>1.0</td>\n",
       "    </tr>\n",
       "    <tr>\n",
       "      <th>23</th>\n",
       "      <td>More</td>\n",
       "      <td>[]</td>\n",
       "      <td>[]</td>\n",
       "      <td>[]</td>\n",
       "      <td>[]</td>\n",
       "      <td>true</td>\n",
       "      <td>[more options please]</td>\n",
       "      <td>[19, 0, 0, 0, 0]</td>\n",
       "      <td>[19, 0, 0, 0, 0]</td>\n",
       "      <td>1.0</td>\n",
       "    </tr>\n",
       "    <tr>\n",
       "      <th>26</th>\n",
       "      <td>More</td>\n",
       "      <td>[]</td>\n",
       "      <td>[]</td>\n",
       "      <td>[]</td>\n",
       "      <td>[]</td>\n",
       "      <td>true</td>\n",
       "      <td>[More products]</td>\n",
       "      <td>[13, 0, 0, 0, 0]</td>\n",
       "      <td>[13, 0, 0, 0, 0]</td>\n",
       "      <td>1.0</td>\n",
       "    </tr>\n",
       "  </tbody>\n",
       "</table>\n",
       "</div>"
      ],
      "text/plain": [
       "   intent negative_aspects negative_product_type_tags positive_aspects  \\\n",
       "0    More               []                         []               []   \n",
       "21   More               []                         []               []   \n",
       "22   More               []                         []               []   \n",
       "23   More               []                         []               []   \n",
       "26   More               []                         []               []   \n",
       "\n",
       "   positive_product_type_tags   tag                   text          emb_bert  \\\n",
       "0                          []  true                 [more]   [4, 0, 0, 0, 0]   \n",
       "21                         []  true          [more option]  [11, 0, 0, 0, 0]   \n",
       "22                         []  true         [more options]  [12, 0, 0, 0, 0]   \n",
       "23                         []  true  [more options please]  [19, 0, 0, 0, 0]   \n",
       "26                         []  true        [More products]  [13, 0, 0, 0, 0]   \n",
       "\n",
       "             emb_use  intent_prob  \n",
       "0    [4, 0, 0, 0, 0]          1.0  \n",
       "21  [11, 0, 0, 0, 0]          1.0  \n",
       "22  [12, 0, 0, 0, 0]          1.0  \n",
       "23  [19, 0, 0, 0, 0]          1.0  \n",
       "26  [13, 0, 0, 0, 0]          1.0  "
      ]
     },
     "execution_count": 27,
     "metadata": {},
     "output_type": "execute_result"
    }
   ],
   "source": [
    "def smooth_intent_prob(w):\n",
    "    return w*100 if w < 0.01 else w\n",
    "\n",
    "# print(\"total count: \",df_data_all.shape[0])\n",
    "# df_data_agg_by_intent = pd.DataFrame(df_data_all.groupby(['intent']).count()['tag'])\n",
    "# df_data_agg_by_intent.rename(columns={'tag':'count'}, inplace=True)\n",
    "# df_data_agg_by_intent['intent_prob'] = df_data_agg_by_intent/df_data_agg_by_intent.sum()\n",
    "# df_data_agg_by_intent['intent_prob_smoothed'] = df_data_agg_by_intent['intent_prob'].apply(smooth_intent_prob)\n",
    "# df_data_agg_by_intent\n",
    "\n",
    "#calc intent pro\n",
    "df_data_all['intent_prob'] = 1.0#df_data_all.groupby(['intent']).transform('count')['text']/df_data_all.shape[0]\n",
    "# df_data_all['intent_prob_weighted'] = df_data_all.groupby(['intent']).transform('count')['text']/df_data_all.shape[0]\n",
    "# df_data_all['intent_prob_smoothed'] = df_data_all['intent_prob'].apply(smooth_intent_prob)\n",
    "print(\"max message length: \", df_data_all['text'].map(len).max())\n",
    "df_data_all.head(n=5)"
   ]
  },
  {
   "cell_type": "code",
   "execution_count": 28,
   "metadata": {},
   "outputs": [
    {
     "name": "stdout",
     "output_type": "stream",
     "text": [
      "                            data  query  query_TP  Q/D ratio\n",
      "intent                                                      \n",
      "Add to Wishlist                3      1         3      0.333\n",
      "Back                          16      1        16      0.062\n",
      "Complementary                 54      9       486      0.167\n",
      "Customer Support             522    109     56898      0.209\n",
      "Frustration                   11      2        22      0.182\n",
      "Help                          13      3        39      0.231\n",
      "Introduction                   5      3        15      0.600\n",
      "More                          14      3        42      0.214\n",
      "New Facecare Regimen          75     20      1500      0.267\n",
      "Order Information            296     71     21016      0.240\n",
      "Product Aspect Information    79     11       869      0.139\n",
      "Product not found            330     66     21780      0.200\n",
      "Shop new arrivals              3      1         3      0.333\n",
      "\n",
      "total: 1721 => query:300 + data:1421\n",
      "total rows:426300 => total TP:102689 TP_ratio:0.24\n"
     ]
    }
   ],
   "source": [
    "N = 300\n",
    "df_query = df_data_all.sample(n=N, weights='intent_prob',random_state=888)\n",
    "# df_query = df_data_all.sample(n=N, weights='intent_prob',random_state=108)\n",
    "df_query\n",
    "df_data = df_data_all.drop(df_query.index)\n",
    "\n",
    "df_query_stats = pd.DataFrame()\n",
    "df_query_stats['data'] = df_data.groupby(['intent']).count()['text']\n",
    "df_query_stats['query'] = df_query.groupby(['intent']).count()['text']\n",
    "df_query_stats['query_TP'] = df_query_stats['query']*df_query_stats['data']\n",
    "df_query_stats['Q/D ratio'] = round(df_query_stats['query']/df_query_stats['data'],3)\n",
    "\n",
    "data_metadata = {\n",
    "    'intents': df_query_stats.index.values.tolist(),\n",
    "    'data_query_stats':df_query_stats.to_dict()\n",
    "}\n",
    "\n",
    "print(df_query_stats)\n",
    "print(\"\")\n",
    "print(f\"total: {len(df_data_all)} => query:{len(df_query)} + data:{len(df_data)}\")\n",
    "total_rows = len(df_query)*len(df_data)\n",
    "total_TP = df_query_stats['query_TP'].sum()\n",
    "print(f\"total rows:{total_rows} => total TP:{total_TP} TP_ratio:{round(df_query_stats['query_TP'].sum()/total_rows, 2)}\")"
   ]
  },
  {
   "cell_type": "code",
   "execution_count": 29,
   "metadata": {},
   "outputs": [
    {
     "name": "stdout",
     "output_type": "stream",
     "text": [
      "total rows:  426300\n"
     ]
    },
    {
     "data": {
      "text/html": [
       "<div>\n",
       "<style scoped>\n",
       "    .dataframe tbody tr th:only-of-type {\n",
       "        vertical-align: middle;\n",
       "    }\n",
       "\n",
       "    .dataframe tbody tr th {\n",
       "        vertical-align: top;\n",
       "    }\n",
       "\n",
       "    .dataframe thead th {\n",
       "        text-align: right;\n",
       "    }\n",
       "</style>\n",
       "<table border=\"1\" class=\"dataframe\">\n",
       "  <thead>\n",
       "    <tr style=\"text-align: right;\">\n",
       "      <th></th>\n",
       "      <th></th>\n",
       "      <th>emb_bert_q</th>\n",
       "      <th>emb_use_q</th>\n",
       "      <th>intent_q</th>\n",
       "      <th>intent</th>\n",
       "      <th>negative_aspects</th>\n",
       "      <th>negative_product_type_tags</th>\n",
       "      <th>positive_aspects</th>\n",
       "      <th>positive_product_type_tags</th>\n",
       "      <th>tag</th>\n",
       "      <th>text</th>\n",
       "      <th>emb_bert</th>\n",
       "      <th>emb_use</th>\n",
       "      <th>intent_prob</th>\n",
       "      <th>is_same_intent</th>\n",
       "    </tr>\n",
       "  </thead>\n",
       "  <tbody>\n",
       "    <tr>\n",
       "      <th rowspan=\"5\" valign=\"top\">2188</th>\n",
       "      <th>0</th>\n",
       "      <td>[144, 0, 0, 1, 0]</td>\n",
       "      <td>[144, 0, 0, 1, 0]</td>\n",
       "      <td>Customer Support</td>\n",
       "      <td>More</td>\n",
       "      <td>[]</td>\n",
       "      <td>[]</td>\n",
       "      <td>[]</td>\n",
       "      <td>[]</td>\n",
       "      <td>true</td>\n",
       "      <td>[more]</td>\n",
       "      <td>[4, 0, 0, 0, 0]</td>\n",
       "      <td>[4, 0, 0, 0, 0]</td>\n",
       "      <td>1.0</td>\n",
       "      <td>False</td>\n",
       "    </tr>\n",
       "    <tr>\n",
       "      <th>21</th>\n",
       "      <td>[144, 0, 0, 1, 0]</td>\n",
       "      <td>[144, 0, 0, 1, 0]</td>\n",
       "      <td>Customer Support</td>\n",
       "      <td>More</td>\n",
       "      <td>[]</td>\n",
       "      <td>[]</td>\n",
       "      <td>[]</td>\n",
       "      <td>[]</td>\n",
       "      <td>true</td>\n",
       "      <td>[more option]</td>\n",
       "      <td>[11, 0, 0, 0, 0]</td>\n",
       "      <td>[11, 0, 0, 0, 0]</td>\n",
       "      <td>1.0</td>\n",
       "      <td>False</td>\n",
       "    </tr>\n",
       "    <tr>\n",
       "      <th>26</th>\n",
       "      <td>[144, 0, 0, 1, 0]</td>\n",
       "      <td>[144, 0, 0, 1, 0]</td>\n",
       "      <td>Customer Support</td>\n",
       "      <td>More</td>\n",
       "      <td>[]</td>\n",
       "      <td>[]</td>\n",
       "      <td>[]</td>\n",
       "      <td>[]</td>\n",
       "      <td>true</td>\n",
       "      <td>[More products]</td>\n",
       "      <td>[13, 0, 0, 0, 0]</td>\n",
       "      <td>[13, 0, 0, 0, 0]</td>\n",
       "      <td>1.0</td>\n",
       "      <td>False</td>\n",
       "    </tr>\n",
       "    <tr>\n",
       "      <th>27</th>\n",
       "      <td>[144, 0, 0, 1, 0]</td>\n",
       "      <td>[144, 0, 0, 1, 0]</td>\n",
       "      <td>Customer Support</td>\n",
       "      <td>More</td>\n",
       "      <td>[]</td>\n",
       "      <td>[]</td>\n",
       "      <td>[]</td>\n",
       "      <td>[]</td>\n",
       "      <td>true</td>\n",
       "      <td>[More products please]</td>\n",
       "      <td>[20, 0, 0, 0, 0]</td>\n",
       "      <td>[20, 0, 0, 0, 0]</td>\n",
       "      <td>1.0</td>\n",
       "      <td>False</td>\n",
       "    </tr>\n",
       "    <tr>\n",
       "      <th>33</th>\n",
       "      <td>[144, 0, 0, 1, 0]</td>\n",
       "      <td>[144, 0, 0, 1, 0]</td>\n",
       "      <td>Customer Support</td>\n",
       "      <td>More</td>\n",
       "      <td>[]</td>\n",
       "      <td>[]</td>\n",
       "      <td>[]</td>\n",
       "      <td>[]</td>\n",
       "      <td>true</td>\n",
       "      <td>[next]</td>\n",
       "      <td>[4, 0, 0, 0, 0]</td>\n",
       "      <td>[4, 0, 0, 0, 0]</td>\n",
       "      <td>1.0</td>\n",
       "      <td>False</td>\n",
       "    </tr>\n",
       "  </tbody>\n",
       "</table>\n",
       "</div>"
      ],
      "text/plain": [
       "                emb_bert_q          emb_use_q          intent_q intent  \\\n",
       "2188 0   [144, 0, 0, 1, 0]  [144, 0, 0, 1, 0]  Customer Support   More   \n",
       "     21  [144, 0, 0, 1, 0]  [144, 0, 0, 1, 0]  Customer Support   More   \n",
       "     26  [144, 0, 0, 1, 0]  [144, 0, 0, 1, 0]  Customer Support   More   \n",
       "     27  [144, 0, 0, 1, 0]  [144, 0, 0, 1, 0]  Customer Support   More   \n",
       "     33  [144, 0, 0, 1, 0]  [144, 0, 0, 1, 0]  Customer Support   More   \n",
       "\n",
       "        negative_aspects negative_product_type_tags positive_aspects  \\\n",
       "2188 0                []                         []               []   \n",
       "     21               []                         []               []   \n",
       "     26               []                         []               []   \n",
       "     27               []                         []               []   \n",
       "     33               []                         []               []   \n",
       "\n",
       "        positive_product_type_tags   tag                    text  \\\n",
       "2188 0                          []  true                  [more]   \n",
       "     21                         []  true           [more option]   \n",
       "     26                         []  true         [More products]   \n",
       "     27                         []  true  [More products please]   \n",
       "     33                         []  true                  [next]   \n",
       "\n",
       "                 emb_bert           emb_use  intent_prob  is_same_intent  \n",
       "2188 0    [4, 0, 0, 0, 0]   [4, 0, 0, 0, 0]          1.0           False  \n",
       "     21  [11, 0, 0, 0, 0]  [11, 0, 0, 0, 0]          1.0           False  \n",
       "     26  [13, 0, 0, 0, 0]  [13, 0, 0, 0, 0]          1.0           False  \n",
       "     27  [20, 0, 0, 0, 0]  [20, 0, 0, 0, 0]          1.0           False  \n",
       "     33   [4, 0, 0, 0, 0]   [4, 0, 0, 0, 0]          1.0           False  "
      ]
     },
     "execution_count": 29,
     "metadata": {},
     "output_type": "execute_result"
    }
   ],
   "source": [
    "df_eval = df_crossjoin(df_query[['emb_bert', 'emb_use', 'intent']], df_data, suffixes=('_q', ''))\n",
    "# df_eval = df_crossjoin(df_query[['emb_use', 'intent']], df_data, suffixes=('_q', ''))\n",
    "# df_eval = df_crossjoin(df_query[['emb_bert', 'intent']], df_data, suffixes=('_q', ''))\n",
    "\n",
    "df_eval['is_same_intent'] = (df_eval['intent_q'] == df_eval['intent']).values\n",
    "print(\"total rows: \",df_eval.shape[0])\n",
    "df_eval.head(n=5)"
   ]
  },
  {
   "cell_type": "code",
   "execution_count": 54,
   "metadata": {},
   "outputs": [],
   "source": [
    "ev_results = []\n",
    "def add_ev_res(res, encoder, emb_metadata, exp_metadata, data_metadata):  \n",
    "    metric = [{'name':k, 'value':v} for k,v in res.items()][0]\n",
    "    ev_res = {\n",
    "        'notebook': notebook_name,\n",
    "        'encoder':encoder,\n",
    "        'emb_metadata': emb_metadata, \n",
    "        'exp_metadata':exp_metadata,\n",
    "        'metric': metric,\n",
    "        'data_metadata': data_metadata\n",
    "    }    \n",
    "    \n",
    "#     ev_res = {**exp, **res}    \n",
    "    ev_results.append(ev_res)"
   ]
  },
  {
   "cell_type": "code",
   "execution_count": 31,
   "metadata": {},
   "outputs": [],
   "source": [
    "# import sys\n",
    "\n",
    "# # These are the usual ipython objects, including this one you are creating\n",
    "# ipython_vars = ['In', 'Out', 'exit', 'quit', 'get_ipython', 'ipython_vars']\n",
    "\n",
    "# # Get a sorted list of the objects and their sizes\n",
    "# sorted([(x, sys.getsizeof(globals().get(x))/10**9) for x in dir() if not x.startswith('_') and x not in sys.modules and x not in ipython_vars], key=lambda x: x[1], reverse=True)"
   ]
  },
  {
   "cell_type": "markdown",
   "metadata": {},
   "source": [
    "#### evaluate BERT"
   ]
  },
  {
   "cell_type": "code",
   "execution_count": 55,
   "metadata": {},
   "outputs": [],
   "source": [
    "bert_metadata = {\n",
    "    'dimensions': 5\n",
    "}\n"
   ]
  },
  {
   "cell_type": "code",
   "execution_count": 56,
   "metadata": {},
   "outputs": [
    {
     "name": "stdout",
     "output_type": "stream",
     "text": [
      "CPU times: user 2.41 s, sys: 130 ms, total: 2.54 s\n",
      "Wall time: 2.43 s\n"
     ]
    }
   ],
   "source": [
    "%%time\n",
    "def calc_dist_use(df):\n",
    "    emb_query_arr = np.stack(df['emb_bert_q'].values)\n",
    "    emb_data_arr = np.stack(df['emb_bert'].values)\n",
    "    angdist, cossim = sim_exact(emb_query_arr, emb_data_arr)\n",
    "    df['angdist_bert'] = angdist#.diagonal()\n",
    "    df['cossim_bert'] = cossim#.diagonal()    \n",
    "    return df\n",
    "\n",
    "df_eval = apply_by_chunks(df_eval, 30000, calc_dist_use)\n",
    "df_eval_by_angdist_bert = df_eval.sort_values(by=['angdist_bert'], ascending=False)[0:total_TP]\n",
    "df_eval_by_angdist_bert.head()"
   ]
  },
  {
   "cell_type": "code",
   "execution_count": 57,
   "metadata": {},
   "outputs": [
    {
     "data": {
      "image/png": "[encoded data removed]",
      "text/plain": [
       "<Figure size 432x288 with 1 Axes>"
      ]
     },
     "metadata": {
      "needs_background": "light"
     },
     "output_type": "display_data"
    }
   ],
   "source": [
    "MAP_DQ_bert = plot_precision_recall_curve(df_eval['angdist_bert'].values, df_eval['is_same_intent'].values)\n",
    "add_ev_res({'MAP_DQ':MAP_DQ_bert}, '-', bert_metadata, exp_metadata, data_metadata)"
   ]
  },
  {
   "cell_type": "code",
   "execution_count": 58,
   "metadata": {},
   "outputs": [
    {
     "data": {
      "image/png": "[encoded data removed]",
      "text/plain": [
       "<Figure size 432x288 with 1 Axes>"
      ]
     },
     "metadata": {
      "needs_background": "light"
     },
     "output_type": "display_data"
    }
   ],
   "source": [
    "MAP_TP_bert = plot_precision_recall_curve(df_eval_by_angdist_bert['angdist_bert'].values, df_eval_by_angdist_bert['is_same_intent'].values)\n",
    "add_ev_res({'MAP_TP':MAP_TP_bert}, '-', bert_metadata, exp_metadata, data_metadata)"
   ]
  },
  {
   "cell_type": "code",
   "execution_count": 59,
   "metadata": {},
   "outputs": [
    {
     "data": {
      "image/png": "[encoded data removed]",
      "text/plain": [
       "<Figure size 432x288 with 1 Axes>"
      ]
     },
     "metadata": {
      "needs_background": "light"
     },
     "output_type": "display_data"
    }
   ],
   "source": [
    "AUC_DQ_bert = plot_auc_curve(df_eval['angdist_bert'].values, df_eval['is_same_intent'].values)\n",
    "add_ev_res({'AUC_DQ':AUC_DQ_bert}, '-', bert_metadata, exp_metadata, data_metadata) "
   ]
  },
  {
   "cell_type": "code",
   "execution_count": 60,
   "metadata": {},
   "outputs": [
    {
     "data": {
      "image/png": "[encoded data removed]",
      "text/plain": [
       "<Figure size 432x288 with 1 Axes>"
      ]
     },
     "metadata": {
      "needs_background": "light"
     },
     "output_type": "display_data"
    }
   ],
   "source": [
    "AUC_TP_bert = plot_auc_curve(df_eval_by_angdist_bert['angdist_bert'].values, df_eval_by_angdist_bert['is_same_intent'].values)\n",
    "add_ev_res({'AUC_TP':AUC_TP_bert}, '-', bert_metadata, exp_metadata, data_metadata) "
   ]
  },
  {
   "cell_type": "markdown",
   "metadata": {},
   "source": [
    "#### evaluate USE"
   ]
  },
  {
   "cell_type": "code",
   "execution_count": 37,
   "metadata": {},
   "outputs": [
    {
     "name": "stdout",
     "output_type": "stream",
     "text": [
      "CPU times: user 2.11 s, sys: 124 ms, total: 2.24 s\n",
      "Wall time: 2.12 s\n"
     ]
    }
   ],
   "source": [
    "%%time\n",
    "def calc_dist_use(df):\n",
    "    emb_query_arr = np.stack(df['emb_use_q'].values)\n",
    "    emb_data_arr = np.stack(df['emb_use'].values)\n",
    "    angdist, cossim = sim_exact(emb_query_arr, emb_data_arr)\n",
    "    df['angdist_use'] = angdist#.diagonal()\n",
    "    df['cossim_use'] = cossim#.diagonal()    \n",
    "    return df\n",
    "\n",
    "df_eval = apply_by_chunks(df_eval, 30000, calc_dist_use)\n",
    "df_eval_res_by_angdist_use = df_eval.sort_values(by=['angdist_use'], ascending=False)[0:total_TP]"
   ]
  },
  {
   "cell_type": "code",
   "execution_count": 38,
   "metadata": {},
   "outputs": [
    {
     "data": {
      "image/png": "[encoded data removed]",
      "text/plain": [
       "<Figure size 432x288 with 1 Axes>"
      ]
     },
     "metadata": {
      "needs_background": "light"
     },
     "output_type": "display_data"
    }
   ],
   "source": [
    "MAP_DQ_use = plot_precision_recall_curve(df_eval['angdist_use'].values, df_eval['is_same_intent'].values)\n",
    "add_ev_res({'MAP_DQ':MAP_DQ_use}, 'use', use_metadata, exp_metadata, data_metadata)   "
   ]
  },
  {
   "cell_type": "code",
   "execution_count": 39,
   "metadata": {},
   "outputs": [
    {
     "data": {
      "image/png": "[encoded data removed]",
      "text/plain": [
       "<Figure size 432x288 with 1 Axes>"
      ]
     },
     "metadata": {
      "needs_background": "light"
     },
     "output_type": "display_data"
    }
   ],
   "source": [
    "MAP_TP_use = plot_precision_recall_curve(df_eval_res_by_angdist_use['angdist_use'].values, df_eval_res_by_angdist_use['is_same_intent'].values)\n",
    "add_ev_res({'MAP_TP':MAP_TP_use}, 'use', use_metadata, exp_metadata, data_metadata) "
   ]
  },
  {
   "cell_type": "code",
   "execution_count": 40,
   "metadata": {},
   "outputs": [
    {
     "data": {
      "image/png": "[encoded data removed]",
      "text/plain": [
       "<Figure size 432x288 with 1 Axes>"
      ]
     },
     "metadata": {
      "needs_background": "light"
     },
     "output_type": "display_data"
    }
   ],
   "source": [
    "AUC_DQ_use = plot_auc_curve(df_eval['angdist_use'].values, df_eval['is_same_intent'].values)\n",
    "add_ev_res({'AUC_DQ':AUC_DQ_use}, 'use', use_metadata, exp_metadata, data_metadata)  "
   ]
  },
  {
   "cell_type": "code",
   "execution_count": 41,
   "metadata": {},
   "outputs": [
    {
     "data": {
      "image/png": "[encoded data removed]",
      "text/plain": [
       "<Figure size 432x288 with 1 Axes>"
      ]
     },
     "metadata": {
      "needs_background": "light"
     },
     "output_type": "display_data"
    }
   ],
   "source": [
    "AUC_TP_use = plot_auc_curve(df_eval_res_by_angdist_use['angdist_use'].values, df_eval_res_by_angdist_use['is_same_intent'].values)\n",
    "add_ev_res({'AUC_TP':AUC_TP_use}, 'use', use_metadata, exp_metadata, data_metadata)   "
   ]
  },
  {
   "cell_type": "markdown",
   "metadata": {},
   "source": [
    "#### save results"
   ]
  },
  {
   "cell_type": "code",
   "execution_count": 61,
   "metadata": {},
   "outputs": [
    {
     "data": {
      "text/plain": [
       "{'notebook': 'STS1-v2.3',\n",
       " 'encoder': '-',\n",
       " 'emb_metadata': {'dimensions': 5},\n",
       " 'exp_metadata': {'msg_vector_desc': {'positive_product_type_tags': 'len',\n",
       "   'negative_product_type_tags': 'len',\n",
       "   'positive_aspects': 'len',\n",
       "   'negative_aspects': 'len',\n",
       "   'text': 'len_char'},\n",
       "  'fields': ['text',\n",
       "   'positive_product_type_tags',\n",
       "   'negative_product_type_tags',\n",
       "   'positive_aspects',\n",
       "   'negative_aspects']},\n",
       " 'metric': {'name': 'MAP_DQ', 'value': 0.25489246923812625},\n",
       " 'data_metadata': {'intents': ['Add to Wishlist',\n",
       "   'Back',\n",
       "   'Complementary',\n",
       "   'Customer Support',\n",
       "   'Frustration',\n",
       "   'Help',\n",
       "   'Introduction',\n",
       "   'More',\n",
       "   'New Facecare Regimen',\n",
       "   'Order Information',\n",
       "   'Product Aspect Information',\n",
       "   'Product not found',\n",
       "   'Shop new arrivals'],\n",
       "  'data_query_stats': {'data': {'Add to Wishlist': 3,\n",
       "    'Back': 16,\n",
       "    'Complementary': 54,\n",
       "    'Customer Support': 522,\n",
       "    'Frustration': 11,\n",
       "    'Help': 13,\n",
       "    'Introduction': 5,\n",
       "    'More': 14,\n",
       "    'New Facecare Regimen': 75,\n",
       "    'Order Information': 296,\n",
       "    'Product Aspect Information': 79,\n",
       "    'Product not found': 330,\n",
       "    'Shop new arrivals': 3},\n",
       "   'query': {'Add to Wishlist': 1,\n",
       "    'Back': 1,\n",
       "    'Complementary': 9,\n",
       "    'Customer Support': 109,\n",
       "    'Frustration': 2,\n",
       "    'Help': 3,\n",
       "    'Introduction': 3,\n",
       "    'More': 3,\n",
       "    'New Facecare Regimen': 20,\n",
       "    'Order Information': 71,\n",
       "    'Product Aspect Information': 11,\n",
       "    'Product not found': 66,\n",
       "    'Shop new arrivals': 1},\n",
       "   'query_TP': {'Add to Wishlist': 3,\n",
       "    'Back': 16,\n",
       "    'Complementary': 486,\n",
       "    'Customer Support': 56898,\n",
       "    'Frustration': 22,\n",
       "    'Help': 39,\n",
       "    'Introduction': 15,\n",
       "    'More': 42,\n",
       "    'New Facecare Regimen': 1500,\n",
       "    'Order Information': 21016,\n",
       "    'Product Aspect Information': 869,\n",
       "    'Product not found': 21780,\n",
       "    'Shop new arrivals': 3},\n",
       "   'Q/D ratio': {'Add to Wishlist': 0.333,\n",
       "    'Back': 0.062,\n",
       "    'Complementary': 0.167,\n",
       "    'Customer Support': 0.209,\n",
       "    'Frustration': 0.182,\n",
       "    'Help': 0.231,\n",
       "    'Introduction': 0.6,\n",
       "    'More': 0.214,\n",
       "    'New Facecare Regimen': 0.267,\n",
       "    'Order Information': 0.24,\n",
       "    'Product Aspect Information': 0.139,\n",
       "    'Product not found': 0.2,\n",
       "    'Shop new arrivals': 0.333}}}}"
      ]
     },
     "execution_count": 61,
     "metadata": {},
     "output_type": "execute_result"
    }
   ],
   "source": [
    "ev_results[0]"
   ]
  },
  {
   "cell_type": "code",
   "execution_count": 62,
   "metadata": {},
   "outputs": [
    {
     "data": {
      "text/plain": [
       "<pymongo.results.InsertManyResult at 0x135e42288>"
      ]
     },
     "execution_count": 62,
     "metadata": {},
     "output_type": "execute_result"
    }
   ],
   "source": [
    "db.sts1_bert_use.insert_many(ev_results)"
   ]
  },
  {
   "cell_type": "code",
   "execution_count": null,
   "metadata": {},
   "outputs": [],
   "source": []
  }
 ],
 "metadata": {
  "kernelspec": {
   "display_name": "Python 3",
   "language": "python",
   "name": "python3"
  },
  "language_info": {
   "codemirror_mode": {
    "name": "ipython",
    "version": 3
   },
   "file_extension": ".py",
   "mimetype": "text/x-python",
   "name": "python",
   "nbconvert_exporter": "python",
   "pygments_lexer": "ipython3",
   "version": "3.6.6"
  }
 },
 "nbformat": 4,
 "nbformat_minor": 2
}
