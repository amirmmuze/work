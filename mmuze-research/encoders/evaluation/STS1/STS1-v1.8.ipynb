{
 "cells": [
  {
   "cell_type": "code",
   "execution_count": 1,
   "metadata": {},
   "outputs": [
    {
     "name": "stdout",
     "output_type": "stream",
     "text": [
      "Importing Jupyter notebook from common_functions.ipynb\n"
     ]
    }
   ],
   "source": [
    "from pymongo import MongoClient\n",
    "from sshtunnel import SSHTunnelForwarder\n",
    "import pprint\n",
    "from bson.objectid import ObjectId\n",
    "import pyperclip as clip\n",
    "import json\n",
    "import tensorflow as tf\n",
    "import pandas as pd\n",
    "import numpy as np\n",
    "import itertools as it\n",
    "# from datasu import auc\n",
    "# import pixiedust\n",
    "# clip.copy(json.dumps(m1['msg']))\n",
    "import nbimporter\n",
    "from common_functions import *\n",
    "pd.options.mode.chained_assignment = None  # default='warn'\n"
   ]
  },
  {
   "cell_type": "code",
   "execution_count": 2,
   "metadata": {},
   "outputs": [],
   "source": [
    "notebook_name = 'STS1-v1.8'"
   ]
  },
  {
   "cell_type": "markdown",
   "metadata": {},
   "source": [
    "### funcs"
   ]
  },
  {
   "cell_type": "code",
   "execution_count": 3,
   "metadata": {},
   "outputs": [],
   "source": [
    "bert_metadata = {            \n",
    "    'version': '1.0',\n",
    "    'encoder': 'BERT',\n",
    "    'model': 'uncased_L-24_H-1024_A-16',    \n",
    "    'max_seq_len': 200,\n",
    "    'pooling_strategy': 'REDUCE_MAX', \n",
    "    'pooling_layer': '-1',\n",
    "    'dimensions': 1024\n",
    "}\n",
    "bert_embedding_index = 8\n",
    "\n",
    "def get_fields_for_vector(message):    \n",
    "    f = {}\n",
    "    msg = message['msg']\n",
    "    f['text'] = msg['text']    \n",
    "    f['text_emb_bert'] = np.array(message['embs']['text'][bert_embedding_index]['vector'])\n",
    "#     f['positive_aspects'] = 'zzz'#msg['positive_aspects']\n",
    "    return list(f.items())"
   ]
  },
  {
   "cell_type": "markdown",
   "metadata": {},
   "source": [
    "### load data"
   ]
  },
  {
   "cell_type": "code",
   "execution_count": 4,
   "metadata": {},
   "outputs": [],
   "source": [
    "# MONGO_HOST = \"ec2-52-23-187-115.compute-1.amazonaws.com\"\n",
    "# MONGO_DB = \"marketpulzz\"\n",
    "# server = SSHTunnelForwarder(\n",
    "#     MONGO_HOST,\n",
    "#     ssh_username='ubuntu',\n",
    "#     ssh_pkey=\"/Users/sasha/.ssh/mmuze.pem\",\n",
    "# #     ssh_private_key_password=\"secret\",\n",
    "#     remote_bind_address=('127.0.0.1', 27017),\n",
    "#     local_bind_address=('127.0.0.1', 63327),\n",
    "#     set_keepalive = 5,\n",
    "# )\n",
    "\n",
    "# server.start()\n",
    "# client = MongoClient('127.0.0.1', server.local_bind_port) # server.local_bind_port is assigned local port\n",
    "# db = client[MONGO_DB]"
   ]
  },
  {
   "cell_type": "code",
   "execution_count": 5,
   "metadata": {},
   "outputs": [],
   "source": [
    "MONGO_DB = \"marketpulzz\"\n",
    "client = MongoClient('127.0.0.1', 27017)\n",
    "db = client[MONGO_DB]"
   ]
  },
  {
   "cell_type": "code",
   "execution_count": 6,
   "metadata": {},
   "outputs": [],
   "source": [
    "def get_message_for_master_tag(mt):   \n",
    "    mess = db.genie_conversation_messages_emb.find_one({\"_id\": mt['conversation_message_id']})\n",
    "    fields = get_fields_for_vector(mess)    \n",
    "#     def extr_intent(intent):\n",
    "#         row = {**{'intent':intent['name'], 'tag':intent['tag']}, **dict(fields)}   \n",
    "#         retun \n",
    "    intents = mt['intents']\n",
    "    rows = list(map(lambda intent:{**{'intent':intent['name'], 'tag':intent['tag']}, **dict(fields)}, intents))\n",
    "    return rows\n",
    "    \n",
    "master_tags_cursor = db.genie_master_tags.find({\"intents.0\":{'$exists':True}})\n",
    "data = list(it.chain(*map(get_message_for_master_tag, master_tags_cursor)))"
   ]
  },
  {
   "cell_type": "markdown",
   "metadata": {},
   "source": [
    "### encode data"
   ]
  },
  {
   "cell_type": "code",
   "execution_count": 7,
   "metadata": {},
   "outputs": [
    {
     "data": {
      "text/html": [
       "<div>\n",
       "<style scoped>\n",
       "    .dataframe tbody tr th:only-of-type {\n",
       "        vertical-align: middle;\n",
       "    }\n",
       "\n",
       "    .dataframe tbody tr th {\n",
       "        vertical-align: top;\n",
       "    }\n",
       "\n",
       "    .dataframe thead th {\n",
       "        text-align: right;\n",
       "    }\n",
       "</style>\n",
       "<table border=\"1\" class=\"dataframe\">\n",
       "  <thead>\n",
       "    <tr style=\"text-align: right;\">\n",
       "      <th></th>\n",
       "      <th>intent</th>\n",
       "      <th>text</th>\n",
       "      <th>text_emb_bert</th>\n",
       "    </tr>\n",
       "  </thead>\n",
       "  <tbody>\n",
       "    <tr>\n",
       "      <th>0</th>\n",
       "      <td>More</td>\n",
       "      <td>more</td>\n",
       "      <td>[-0.16026777029037476, -0.14860273897647858, 0...</td>\n",
       "    </tr>\n",
       "    <tr>\n",
       "      <th>21</th>\n",
       "      <td>More</td>\n",
       "      <td>more option</td>\n",
       "      <td>[-0.16111749410629272, 0.3283473253250122, 0.0...</td>\n",
       "    </tr>\n",
       "    <tr>\n",
       "      <th>22</th>\n",
       "      <td>More</td>\n",
       "      <td>more options</td>\n",
       "      <td>[-0.226955384016037, 0.41984060406684875, -0.4...</td>\n",
       "    </tr>\n",
       "    <tr>\n",
       "      <th>23</th>\n",
       "      <td>More</td>\n",
       "      <td>more options please</td>\n",
       "      <td>[0.2972634434700012, 0.3924226462841034, 0.141...</td>\n",
       "    </tr>\n",
       "    <tr>\n",
       "      <th>26</th>\n",
       "      <td>More</td>\n",
       "      <td>More products</td>\n",
       "      <td>[-0.2657119929790497, 0.7479131817817688, -0.2...</td>\n",
       "    </tr>\n",
       "  </tbody>\n",
       "</table>\n",
       "</div>"
      ],
      "text/plain": [
       "   intent                 text  \\\n",
       "0    More                 more   \n",
       "21   More          more option   \n",
       "22   More         more options   \n",
       "23   More  more options please   \n",
       "26   More        More products   \n",
       "\n",
       "                                        text_emb_bert  \n",
       "0   [-0.16026777029037476, -0.14860273897647858, 0...  \n",
       "21  [-0.16111749410629272, 0.3283473253250122, 0.0...  \n",
       "22  [-0.226955384016037, 0.41984060406684875, -0.4...  \n",
       "23  [0.2972634434700012, 0.3924226462841034, 0.141...  \n",
       "26  [-0.2657119929790497, 0.7479131817817688, -0.2...  "
      ]
     },
     "execution_count": 7,
     "metadata": {},
     "output_type": "execute_result"
    }
   ],
   "source": [
    "df_data_all_unfiltered = pd.DataFrame(data)\n",
    "df_data_all = df_data_all_unfiltered\n",
    "df_data_all = df_data_all_unfiltered.loc[df_data_all_unfiltered.tag=='true']#.copy()\n",
    "df_data_all.drop(columns=['tag'],inplace=True)\n",
    "# df_data_all[0:150]['intent'] = 'refund'\n",
    "# df_data_all[0:150]['text'] = 'I want my money back as soon as possible. Thanks'\n",
    "df_data_all.head()"
   ]
  },
  {
   "cell_type": "markdown",
   "metadata": {},
   "source": [
    "### init encoders"
   ]
  },
  {
   "cell_type": "markdown",
   "metadata": {},
   "source": [
    "##### BERT"
   ]
  },
  {
   "cell_type": "code",
   "execution_count": 6,
   "metadata": {},
   "outputs": [],
   "source": [
    "#bert-serving-start -model_dir /Users/sasha/dev/mmuze/_models/BERT/uncased_L-24_H-1024_A-16/ -num_worker=1 -max_batch_size 1000 -max_seq_len 200 -pooling_strategy REDUCE_MEAN -pooling_layer -1 -2 \n",
    "_models_path = '/Users/sasha/dev/mmuze/_models/BERT'\n",
    "BERT_BASE_DIR=f'{_models_path}/uncased_L-24_H-1024_A-16/'"
   ]
  },
  {
   "cell_type": "code",
   "execution_count": 7,
   "metadata": {},
   "outputs": [],
   "source": [
    "from bert_serving.client import BertClient\n",
    "# bc = BertClient()"
   ]
  },
  {
   "cell_type": "code",
   "execution_count": 61,
   "metadata": {},
   "outputs": [],
   "source": [
    "%%time\n",
    "text_emb_bert = bc.encode(list(df_data_all['text'].values))\n",
    "df_data_all['text_emb_bert'] = list(text_emb_bert)"
   ]
  },
  {
   "cell_type": "markdown",
   "metadata": {},
   "source": [
    "##### USE"
   ]
  },
  {
   "cell_type": "code",
   "execution_count": 24,
   "metadata": {},
   "outputs": [
    {
     "name": "stdout",
     "output_type": "stream",
     "text": [
      "INFO:tensorflow:Using /var/folders/xn/dh4vn2gx4x36vh0x051kpw1m0000gn/T/tfhub_modules to cache modules.\n",
      "INFO:tensorflow:Saver not created because there are no variables in the graph to restore\n"
     ]
    }
   ],
   "source": [
    "# https://stackoverflow.com/questions/48092772/add-operation-to-graph-without-with-as-clause\n",
    "import tensorflow_hub as hub\n",
    "graph = tf.Graph()\n",
    "cm = graph.as_default()   \n",
    "cm.__enter__()\n",
    "# module_url = \"https://tfhub.dev/google/universal-sentence-encoder/2\" \n",
    "module_url = \"https://tfhub.dev/google/universal-sentence-encoder-large/3\" \n",
    "#@param [\"https://tfhub.dev/google/universal-sentence-encoder/2\", \"https://tfhub.dev/google/universal-sentence-encoder-large/3\"]\n",
    "# Import the Universal Sentence Encoder's TF Hub module\n",
    "embed = hub.Module(module_url, trainable=True)\n",
    "\n",
    "session = tf.Session(graph=graph)\n",
    "session.run(tf.global_variables_initializer())\n",
    "session.run(tf.tables_initializer())\n",
    "input1 = tf.placeholder(tf.string, shape=(None))\n",
    "emb = embed(input1)\n",
    "\n",
    "\n",
    "def encode_USE(texts):   \n",
    "    emb1 = session.run([emb], feed_dict={ input1: texts })\n",
    "    return emb1\n",
    "\n",
    "#warm up\n",
    "_ = encode_USE([\"sasha\", \"miko\"])"
   ]
  },
  {
   "cell_type": "code",
   "execution_count": null,
   "metadata": {},
   "outputs": [],
   "source": [
    "use_metadata = {\n",
    "    'model': module_url,\n",
    "    'dimensions': 1024\n",
    "}"
   ]
  },
  {
   "cell_type": "code",
   "execution_count": 25,
   "metadata": {},
   "outputs": [
    {
     "name": "stdout",
     "output_type": "stream",
     "text": [
      "CPU times: user 6min 44s, sys: 49.7 s, total: 7min 34s\n",
      "Wall time: 1min 5s\n"
     ]
    }
   ],
   "source": [
    "%%time\n",
    "text_emb_USE = encode_USE(df_data_all['text'].values)[0]\n",
    "df_data_all['text_emb_use'] = list(text_emb_USE)"
   ]
  },
  {
   "cell_type": "code",
   "execution_count": 8,
   "metadata": {},
   "outputs": [
    {
     "data": {
      "text/html": [
       "<div>\n",
       "<style scoped>\n",
       "    .dataframe tbody tr th:only-of-type {\n",
       "        vertical-align: middle;\n",
       "    }\n",
       "\n",
       "    .dataframe tbody tr th {\n",
       "        vertical-align: top;\n",
       "    }\n",
       "\n",
       "    .dataframe thead th {\n",
       "        text-align: right;\n",
       "    }\n",
       "</style>\n",
       "<table border=\"1\" class=\"dataframe\">\n",
       "  <thead>\n",
       "    <tr style=\"text-align: right;\">\n",
       "      <th></th>\n",
       "      <th>intent</th>\n",
       "      <th>text</th>\n",
       "      <th>text_emb_bert</th>\n",
       "    </tr>\n",
       "  </thead>\n",
       "  <tbody>\n",
       "    <tr>\n",
       "      <th>0</th>\n",
       "      <td>More</td>\n",
       "      <td>more</td>\n",
       "      <td>[-0.16026777029037476, -0.14860273897647858, 0...</td>\n",
       "    </tr>\n",
       "    <tr>\n",
       "      <th>21</th>\n",
       "      <td>More</td>\n",
       "      <td>more option</td>\n",
       "      <td>[-0.16111749410629272, 0.3283473253250122, 0.0...</td>\n",
       "    </tr>\n",
       "    <tr>\n",
       "      <th>22</th>\n",
       "      <td>More</td>\n",
       "      <td>more options</td>\n",
       "      <td>[-0.226955384016037, 0.41984060406684875, -0.4...</td>\n",
       "    </tr>\n",
       "    <tr>\n",
       "      <th>23</th>\n",
       "      <td>More</td>\n",
       "      <td>more options please</td>\n",
       "      <td>[0.2972634434700012, 0.3924226462841034, 0.141...</td>\n",
       "    </tr>\n",
       "    <tr>\n",
       "      <th>26</th>\n",
       "      <td>More</td>\n",
       "      <td>More products</td>\n",
       "      <td>[-0.2657119929790497, 0.7479131817817688, -0.2...</td>\n",
       "    </tr>\n",
       "  </tbody>\n",
       "</table>\n",
       "</div>"
      ],
      "text/plain": [
       "   intent                 text  \\\n",
       "0    More                 more   \n",
       "21   More          more option   \n",
       "22   More         more options   \n",
       "23   More  more options please   \n",
       "26   More        More products   \n",
       "\n",
       "                                        text_emb_bert  \n",
       "0   [-0.16026777029037476, -0.14860273897647858, 0...  \n",
       "21  [-0.16111749410629272, 0.3283473253250122, 0.0...  \n",
       "22  [-0.226955384016037, 0.41984060406684875, -0.4...  \n",
       "23  [0.2972634434700012, 0.3924226462841034, 0.141...  \n",
       "26  [-0.2657119929790497, 0.7479131817817688, -0.2...  "
      ]
     },
     "execution_count": 8,
     "metadata": {},
     "output_type": "execute_result"
    }
   ],
   "source": [
    "df_data_all.head()"
   ]
  },
  {
   "cell_type": "markdown",
   "metadata": {},
   "source": [
    "### evaluation"
   ]
  },
  {
   "cell_type": "code",
   "execution_count": 10,
   "metadata": {},
   "outputs": [
    {
     "data": {
      "text/html": [
       "<div>\n",
       "<style scoped>\n",
       "    .dataframe tbody tr th:only-of-type {\n",
       "        vertical-align: middle;\n",
       "    }\n",
       "\n",
       "    .dataframe tbody tr th {\n",
       "        vertical-align: top;\n",
       "    }\n",
       "\n",
       "    .dataframe thead tr th {\n",
       "        text-align: left;\n",
       "    }\n",
       "\n",
       "    .dataframe thead tr:last-of-type th {\n",
       "        text-align: right;\n",
       "    }\n",
       "</style>\n",
       "<table border=\"1\" class=\"dataframe\">\n",
       "  <thead>\n",
       "    <tr>\n",
       "      <th></th>\n",
       "      <th colspan=\"3\" halign=\"left\">count</th>\n",
       "    </tr>\n",
       "    <tr>\n",
       "      <th>tag</th>\n",
       "      <th>amb</th>\n",
       "      <th>false</th>\n",
       "      <th>true</th>\n",
       "    </tr>\n",
       "    <tr>\n",
       "      <th>name</th>\n",
       "      <th></th>\n",
       "      <th></th>\n",
       "      <th></th>\n",
       "    </tr>\n",
       "  </thead>\n",
       "  <tbody>\n",
       "    <tr>\n",
       "      <th>Add to Wishlist</th>\n",
       "      <td>NaN</td>\n",
       "      <td>18.0</td>\n",
       "      <td>4.0</td>\n",
       "    </tr>\n",
       "    <tr>\n",
       "      <th>Back</th>\n",
       "      <td>NaN</td>\n",
       "      <td>29.0</td>\n",
       "      <td>17.0</td>\n",
       "    </tr>\n",
       "    <tr>\n",
       "      <th>Compare</th>\n",
       "      <td>NaN</td>\n",
       "      <td>24.0</td>\n",
       "      <td>NaN</td>\n",
       "    </tr>\n",
       "    <tr>\n",
       "      <th>Complementary</th>\n",
       "      <td>NaN</td>\n",
       "      <td>105.0</td>\n",
       "      <td>63.0</td>\n",
       "    </tr>\n",
       "    <tr>\n",
       "      <th>Customer Support</th>\n",
       "      <td>1.0</td>\n",
       "      <td>26.0</td>\n",
       "      <td>631.0</td>\n",
       "    </tr>\n",
       "    <tr>\n",
       "      <th>Frustration</th>\n",
       "      <td>8.0</td>\n",
       "      <td>97.0</td>\n",
       "      <td>13.0</td>\n",
       "    </tr>\n",
       "    <tr>\n",
       "      <th>Help</th>\n",
       "      <td>NaN</td>\n",
       "      <td>48.0</td>\n",
       "      <td>16.0</td>\n",
       "    </tr>\n",
       "    <tr>\n",
       "      <th>Introduction</th>\n",
       "      <td>NaN</td>\n",
       "      <td>17.0</td>\n",
       "      <td>8.0</td>\n",
       "    </tr>\n",
       "    <tr>\n",
       "      <th>More</th>\n",
       "      <td>34.0</td>\n",
       "      <td>32.0</td>\n",
       "      <td>17.0</td>\n",
       "    </tr>\n",
       "    <tr>\n",
       "      <th>New Facecare Regimen</th>\n",
       "      <td>NaN</td>\n",
       "      <td>238.0</td>\n",
       "      <td>95.0</td>\n",
       "    </tr>\n",
       "    <tr>\n",
       "      <th>Order Information</th>\n",
       "      <td>NaN</td>\n",
       "      <td>116.0</td>\n",
       "      <td>367.0</td>\n",
       "    </tr>\n",
       "    <tr>\n",
       "      <th>Product Aspect Information</th>\n",
       "      <td>NaN</td>\n",
       "      <td>122.0</td>\n",
       "      <td>90.0</td>\n",
       "    </tr>\n",
       "    <tr>\n",
       "      <th>Product not found</th>\n",
       "      <td>NaN</td>\n",
       "      <td>128.0</td>\n",
       "      <td>396.0</td>\n",
       "    </tr>\n",
       "    <tr>\n",
       "      <th>Shop new arrivals</th>\n",
       "      <td>2.0</td>\n",
       "      <td>1.0</td>\n",
       "      <td>4.0</td>\n",
       "    </tr>\n",
       "  </tbody>\n",
       "</table>\n",
       "</div>"
      ],
      "text/plain": [
       "                           count              \n",
       "tag                          amb  false   true\n",
       "name                                          \n",
       "Add to Wishlist              NaN   18.0    4.0\n",
       "Back                         NaN   29.0   17.0\n",
       "Compare                      NaN   24.0    NaN\n",
       "Complementary                NaN  105.0   63.0\n",
       "Customer Support             1.0   26.0  631.0\n",
       "Frustration                  8.0   97.0   13.0\n",
       "Help                         NaN   48.0   16.0\n",
       "Introduction                 NaN   17.0    8.0\n",
       "More                        34.0   32.0   17.0\n",
       "New Facecare Regimen         NaN  238.0   95.0\n",
       "Order Information            NaN  116.0  367.0\n",
       "Product Aspect Information   NaN  122.0   90.0\n",
       "Product not found            NaN  128.0  396.0\n",
       "Shop new arrivals            2.0    1.0    4.0"
      ]
     },
     "execution_count": 10,
     "metadata": {},
     "output_type": "execute_result"
    }
   ],
   "source": [
    "pipeline = [\n",
    "{'$unwind': '$intents'},\n",
    "{'$project' : {'_id': 0, 'intents.name' : 1 , 'intents.category' : 1, 'intents.tag' : 1 } },\n",
    "{'$group' : {\n",
    "       '_id' : { \n",
    "            'name': \"$intents.name\", \n",
    "            'category': '$intents.category', \n",
    "            'tag': '$intents.tag' \n",
    "        },\n",
    "        'name': {'$first': \"$intents.name\"}, \n",
    "        'category': {'$first':'$intents.category'}, \n",
    "        'tag': {'$first':'$intents.tag'},      \n",
    "        'count': { '$sum': 1 }\n",
    "    }\n",
    "},\n",
    "{'$project' : {'_id': 0, 'name' : 1 , 'category' : 1, 'tag' : 1,'count' : 1 }}\n",
    "]\n",
    "\n",
    "master_tag_stats = list(db.genie_master_tags.aggregate(pipeline))\n",
    "df_master_tag_stats = pd.DataFrame(master_tag_stats, columns=['category','name','tag','count'])\n",
    "df_master_tag_stats.pivot(index='name',values=['count'],columns='tag')"
   ]
  },
  {
   "cell_type": "code",
   "execution_count": 9,
   "metadata": {},
   "outputs": [
    {
     "name": "stdout",
     "output_type": "stream",
     "text": [
      "max message length:  962\n"
     ]
    },
    {
     "data": {
      "text/html": [
       "<div>\n",
       "<style scoped>\n",
       "    .dataframe tbody tr th:only-of-type {\n",
       "        vertical-align: middle;\n",
       "    }\n",
       "\n",
       "    .dataframe tbody tr th {\n",
       "        vertical-align: top;\n",
       "    }\n",
       "\n",
       "    .dataframe thead th {\n",
       "        text-align: right;\n",
       "    }\n",
       "</style>\n",
       "<table border=\"1\" class=\"dataframe\">\n",
       "  <thead>\n",
       "    <tr style=\"text-align: right;\">\n",
       "      <th></th>\n",
       "      <th>intent</th>\n",
       "      <th>text</th>\n",
       "      <th>text_emb_bert</th>\n",
       "      <th>intent_prob</th>\n",
       "    </tr>\n",
       "  </thead>\n",
       "  <tbody>\n",
       "    <tr>\n",
       "      <th>0</th>\n",
       "      <td>More</td>\n",
       "      <td>more</td>\n",
       "      <td>[-0.16026777029037476, -0.14860273897647858, 0...</td>\n",
       "      <td>1.0</td>\n",
       "    </tr>\n",
       "    <tr>\n",
       "      <th>21</th>\n",
       "      <td>More</td>\n",
       "      <td>more option</td>\n",
       "      <td>[-0.16111749410629272, 0.3283473253250122, 0.0...</td>\n",
       "      <td>1.0</td>\n",
       "    </tr>\n",
       "    <tr>\n",
       "      <th>22</th>\n",
       "      <td>More</td>\n",
       "      <td>more options</td>\n",
       "      <td>[-0.226955384016037, 0.41984060406684875, -0.4...</td>\n",
       "      <td>1.0</td>\n",
       "    </tr>\n",
       "    <tr>\n",
       "      <th>23</th>\n",
       "      <td>More</td>\n",
       "      <td>more options please</td>\n",
       "      <td>[0.2972634434700012, 0.3924226462841034, 0.141...</td>\n",
       "      <td>1.0</td>\n",
       "    </tr>\n",
       "    <tr>\n",
       "      <th>26</th>\n",
       "      <td>More</td>\n",
       "      <td>More products</td>\n",
       "      <td>[-0.2657119929790497, 0.7479131817817688, -0.2...</td>\n",
       "      <td>1.0</td>\n",
       "    </tr>\n",
       "  </tbody>\n",
       "</table>\n",
       "</div>"
      ],
      "text/plain": [
       "   intent                 text  \\\n",
       "0    More                 more   \n",
       "21   More          more option   \n",
       "22   More         more options   \n",
       "23   More  more options please   \n",
       "26   More        More products   \n",
       "\n",
       "                                        text_emb_bert  intent_prob  \n",
       "0   [-0.16026777029037476, -0.14860273897647858, 0...          1.0  \n",
       "21  [-0.16111749410629272, 0.3283473253250122, 0.0...          1.0  \n",
       "22  [-0.226955384016037, 0.41984060406684875, -0.4...          1.0  \n",
       "23  [0.2972634434700012, 0.3924226462841034, 0.141...          1.0  \n",
       "26  [-0.2657119929790497, 0.7479131817817688, -0.2...          1.0  "
      ]
     },
     "execution_count": 9,
     "metadata": {},
     "output_type": "execute_result"
    }
   ],
   "source": [
    "def smooth_intent_prob(w):\n",
    "    return w*100 if w < 0.01 else w\n",
    "\n",
    "# print(\"total count: \",df_data_all.shape[0])\n",
    "# df_data_agg_by_intent = pd.DataFrame(df_data_all.groupby(['intent']).count()['tag'])\n",
    "# df_data_agg_by_intent.rename(columns={'tag':'count'}, inplace=True)\n",
    "# df_data_agg_by_intent['intent_prob'] = df_data_agg_by_intent/df_data_agg_by_intent.sum()\n",
    "# df_data_agg_by_intent['intent_prob_smoothed'] = df_data_agg_by_intent['intent_prob'].apply(smooth_intent_prob)\n",
    "# df_data_agg_by_intent\n",
    "\n",
    "#calc intent pro\n",
    "df_data_all['intent_prob'] = 1.0#df_data_all.groupby(['intent']).transform('count')['text']/df_data_all.shape[0]\n",
    "# df_data_all['intent_prob_weighted'] = df_data_all.groupby(['intent']).transform('count')['text']/df_data_all.shape[0]\n",
    "# df_data_all['intent_prob_smoothed'] = df_data_all['intent_prob'].apply(smooth_intent_prob)\n",
    "print(\"max message length: \", df_data_all['text'].map(len).max())\n",
    "df_data_all.head(n=5)"
   ]
  },
  {
   "cell_type": "code",
   "execution_count": 10,
   "metadata": {},
   "outputs": [
    {
     "name": "stdout",
     "output_type": "stream",
     "text": [
      "                            data  query  query_TP  Q/D ratio\n",
      "intent                                                      \n",
      "Add to Wishlist                3      1         3      0.333\n",
      "Back                          16      1        16      0.062\n",
      "Complementary                 54      9       486      0.167\n",
      "Customer Support             522    109     56898      0.209\n",
      "Frustration                   11      2        22      0.182\n",
      "Help                          13      3        39      0.231\n",
      "Introduction                   5      3        15      0.600\n",
      "More                          14      3        42      0.214\n",
      "New Facecare Regimen          75     20      1500      0.267\n",
      "Order Information            296     71     21016      0.240\n",
      "Product Aspect Information    79     11       869      0.139\n",
      "Product not found            330     66     21780      0.200\n",
      "Shop new arrivals              3      1         3      0.333\n",
      "\n",
      "total: 1721 => query:300 + data:1421\n",
      "total rows:426300 => total TP:102689 TP_ratio:0.24\n"
     ]
    }
   ],
   "source": [
    "N = 300\n",
    "df_query = df_data_all.sample(n=N, weights='intent_prob',random_state=888)\n",
    "# df_query = df_data_all.sample(n=N, weights='intent_prob',random_state=108)\n",
    "df_query\n",
    "df_data = df_data_all.drop(df_query.index)\n",
    "\n",
    "df_query_stats = pd.DataFrame()\n",
    "df_query_stats['data'] = df_data.groupby(['intent']).count()['text']\n",
    "df_query_stats['query'] = df_query.groupby(['intent']).count()['text']\n",
    "df_query_stats['query_TP'] = df_query_stats['query']*df_query_stats['data']\n",
    "df_query_stats['Q/D ratio'] = round(df_query_stats['query']/df_query_stats['data'],3)\n",
    "\n",
    "\n",
    "print(df_query_stats)\n",
    "print(\"\")\n",
    "print(f\"total: {len(df_data_all)} => query:{len(df_query)} + data:{len(df_data)}\")\n",
    "total_rows = len(df_query)*len(df_data)\n",
    "total_TP = df_query_stats['query_TP'].sum()\n",
    "print(f\"total rows:{total_rows} => total TP:{total_TP} TP_ratio:{round(df_query_stats['query_TP'].sum()/total_rows, 2)}\")"
   ]
  },
  {
   "cell_type": "code",
   "execution_count": 11,
   "metadata": {},
   "outputs": [
    {
     "name": "stdout",
     "output_type": "stream",
     "text": [
      "total rows:  426300\n"
     ]
    },
    {
     "data": {
      "text/html": [
       "<div>\n",
       "<style scoped>\n",
       "    .dataframe tbody tr th:only-of-type {\n",
       "        vertical-align: middle;\n",
       "    }\n",
       "\n",
       "    .dataframe tbody tr th {\n",
       "        vertical-align: top;\n",
       "    }\n",
       "\n",
       "    .dataframe thead th {\n",
       "        text-align: right;\n",
       "    }\n",
       "</style>\n",
       "<table border=\"1\" class=\"dataframe\">\n",
       "  <thead>\n",
       "    <tr style=\"text-align: right;\">\n",
       "      <th></th>\n",
       "      <th></th>\n",
       "      <th>text_q</th>\n",
       "      <th>text_emb_bert_q</th>\n",
       "      <th>intent_q</th>\n",
       "      <th>intent</th>\n",
       "      <th>text</th>\n",
       "      <th>text_emb_bert</th>\n",
       "      <th>intent_prob</th>\n",
       "      <th>is_same_intent</th>\n",
       "    </tr>\n",
       "  </thead>\n",
       "  <tbody>\n",
       "    <tr>\n",
       "      <th rowspan=\"5\" valign=\"top\">2188</th>\n",
       "      <th>0</th>\n",
       "      <td>Thank you so much. I will take a look at both ...</td>\n",
       "      <td>[0.2514638900756836, 0.4603024125099182, 0.669...</td>\n",
       "      <td>Customer Support</td>\n",
       "      <td>More</td>\n",
       "      <td>more</td>\n",
       "      <td>[-0.16026777029037476, -0.14860273897647858, 0...</td>\n",
       "      <td>1.0</td>\n",
       "      <td>False</td>\n",
       "    </tr>\n",
       "    <tr>\n",
       "      <th>21</th>\n",
       "      <td>Thank you so much. I will take a look at both ...</td>\n",
       "      <td>[0.2514638900756836, 0.4603024125099182, 0.669...</td>\n",
       "      <td>Customer Support</td>\n",
       "      <td>More</td>\n",
       "      <td>more option</td>\n",
       "      <td>[-0.16111749410629272, 0.3283473253250122, 0.0...</td>\n",
       "      <td>1.0</td>\n",
       "      <td>False</td>\n",
       "    </tr>\n",
       "    <tr>\n",
       "      <th>26</th>\n",
       "      <td>Thank you so much. I will take a look at both ...</td>\n",
       "      <td>[0.2514638900756836, 0.4603024125099182, 0.669...</td>\n",
       "      <td>Customer Support</td>\n",
       "      <td>More</td>\n",
       "      <td>More products</td>\n",
       "      <td>[-0.2657119929790497, 0.7479131817817688, -0.2...</td>\n",
       "      <td>1.0</td>\n",
       "      <td>False</td>\n",
       "    </tr>\n",
       "    <tr>\n",
       "      <th>27</th>\n",
       "      <td>Thank you so much. I will take a look at both ...</td>\n",
       "      <td>[0.2514638900756836, 0.4603024125099182, 0.669...</td>\n",
       "      <td>Customer Support</td>\n",
       "      <td>More</td>\n",
       "      <td>More products please</td>\n",
       "      <td>[0.06946618854999542, 0.5905514359474182, 0.27...</td>\n",
       "      <td>1.0</td>\n",
       "      <td>False</td>\n",
       "    </tr>\n",
       "    <tr>\n",
       "      <th>33</th>\n",
       "      <td>Thank you so much. I will take a look at both ...</td>\n",
       "      <td>[0.2514638900756836, 0.4603024125099182, 0.669...</td>\n",
       "      <td>Customer Support</td>\n",
       "      <td>More</td>\n",
       "      <td>next</td>\n",
       "      <td>[0.381465345621109, 0.0037637799978256226, 0.0...</td>\n",
       "      <td>1.0</td>\n",
       "      <td>False</td>\n",
       "    </tr>\n",
       "  </tbody>\n",
       "</table>\n",
       "</div>"
      ],
      "text/plain": [
       "                                                    text_q  \\\n",
       "2188 0   Thank you so much. I will take a look at both ...   \n",
       "     21  Thank you so much. I will take a look at both ...   \n",
       "     26  Thank you so much. I will take a look at both ...   \n",
       "     27  Thank you so much. I will take a look at both ...   \n",
       "     33  Thank you so much. I will take a look at both ...   \n",
       "\n",
       "                                           text_emb_bert_q          intent_q  \\\n",
       "2188 0   [0.2514638900756836, 0.4603024125099182, 0.669...  Customer Support   \n",
       "     21  [0.2514638900756836, 0.4603024125099182, 0.669...  Customer Support   \n",
       "     26  [0.2514638900756836, 0.4603024125099182, 0.669...  Customer Support   \n",
       "     27  [0.2514638900756836, 0.4603024125099182, 0.669...  Customer Support   \n",
       "     33  [0.2514638900756836, 0.4603024125099182, 0.669...  Customer Support   \n",
       "\n",
       "        intent                  text  \\\n",
       "2188 0    More                  more   \n",
       "     21   More           more option   \n",
       "     26   More         More products   \n",
       "     27   More  More products please   \n",
       "     33   More                  next   \n",
       "\n",
       "                                             text_emb_bert  intent_prob  \\\n",
       "2188 0   [-0.16026777029037476, -0.14860273897647858, 0...          1.0   \n",
       "     21  [-0.16111749410629272, 0.3283473253250122, 0.0...          1.0   \n",
       "     26  [-0.2657119929790497, 0.7479131817817688, -0.2...          1.0   \n",
       "     27  [0.06946618854999542, 0.5905514359474182, 0.27...          1.0   \n",
       "     33  [0.381465345621109, 0.0037637799978256226, 0.0...          1.0   \n",
       "\n",
       "         is_same_intent  \n",
       "2188 0            False  \n",
       "     21           False  \n",
       "     26           False  \n",
       "     27           False  \n",
       "     33           False  "
      ]
     },
     "execution_count": 11,
     "metadata": {},
     "output_type": "execute_result"
    }
   ],
   "source": [
    "# df_eval = df_crossjoin(df_query[['text','text_emb_bert', 'text_emb_use', 'intent']], df_data, suffixes=('_q', ''))\n",
    "df_eval = df_crossjoin(df_query[['text', 'text_emb_bert', 'intent']], df_data, suffixes=('_q', ''))\n",
    "\n",
    "df_eval['is_same_intent'] = (df_eval['intent_q'] == df_eval['intent']).values\n",
    "print(\"total rows: \",df_eval.shape[0])\n",
    "df_eval.head(n=5)"
   ]
  },
  {
   "cell_type": "code",
   "execution_count": 12,
   "metadata": {},
   "outputs": [],
   "source": [
    "ev_results = []\n",
    "def add_ev_res(res, encoder, metadata):  \n",
    "    metric = [{'name':k, 'value':v} for k,v in res.items()][0]\n",
    "    ev_res = {\n",
    "        'notebook': notebook_name,\n",
    "        'encoder':encoder,\n",
    "        'emb_metadata': metadata, \n",
    "        'metric': metric\n",
    "    }    \n",
    "#     ev_res = {**exp, **res}    \n",
    "    ev_results.append(ev_res)"
   ]
  },
  {
   "cell_type": "markdown",
   "metadata": {},
   "source": [
    "#### evaluate BERT"
   ]
  },
  {
   "cell_type": "code",
   "execution_count": 13,
   "metadata": {},
   "outputs": [
    {
     "name": "stdout",
     "output_type": "stream",
     "text": [
      "CPU times: user 27.7 s, sys: 1min 38s, total: 2min 6s\n",
      "Wall time: 1min 31s\n"
     ]
    }
   ],
   "source": [
    "%%time\n",
    "angdist_bert, cossim_bert = sim_exact(np.stack(df_eval['text_emb_bert_q'].values), np.stack(df_eval['text_emb_bert'].values))\n",
    "df_eval['angdist_bert'] = angdist_bert#.diagonal()\n",
    "df_eval['cossim_bert'] = cossim_bert#.diagonal()\n",
    "df_eval_by_angdist_bert = df_eval.sort_values(by=['angdist_bert'], ascending=False)[0:total_TP]\n",
    "df_eval_by_angdist_bert.head()"
   ]
  },
  {
   "cell_type": "code",
   "execution_count": 14,
   "metadata": {},
   "outputs": [
    {
     "data": {
      "image/png": "[encoded data removed]",
      "text/plain": [
       "<Figure size 432x288 with 1 Axes>"
      ]
     },
     "metadata": {
      "needs_background": "light"
     },
     "output_type": "display_data"
    }
   ],
   "source": [
    "MAP_DQ_bert = plot_precision_recall_curve(df_eval['angdist_bert'].values, df_eval['is_same_intent'].values)\n",
    "add_ev_res({'MAP_DQ':MAP_DQ_bert}, 'bert', bert_metadata)"
   ]
  },
  {
   "cell_type": "code",
   "execution_count": 15,
   "metadata": {},
   "outputs": [
    {
     "data": {
      "image/png": "[encoded data removed]",
      "text/plain": [
       "<Figure size 432x288 with 1 Axes>"
      ]
     },
     "metadata": {
      "needs_background": "light"
     },
     "output_type": "display_data"
    }
   ],
   "source": [
    "MAP_TP_bert = plot_precision_recall_curve(df_eval_by_angdist_bert['angdist_bert'].values, df_eval_by_angdist_bert['is_same_intent'].values)\n",
    "add_ev_res({'MAP_TP':MAP_TP_bert}, 'bert', bert_metadata)   "
   ]
  },
  {
   "cell_type": "code",
   "execution_count": 16,
   "metadata": {},
   "outputs": [
    {
     "data": {
      "image/png": "[encoded data removed]",
      "text/plain": [
       "<Figure size 432x288 with 1 Axes>"
      ]
     },
     "metadata": {
      "needs_background": "light"
     },
     "output_type": "display_data"
    }
   ],
   "source": [
    "AUC_DQ_bert = plot_auc_curve(df_eval['angdist_bert'].values, df_eval['is_same_intent'].values)\n",
    "add_ev_res({'AUC_DQ':AUC_DQ_bert}, 'bert', bert_metadata)   "
   ]
  },
  {
   "cell_type": "code",
   "execution_count": 17,
   "metadata": {},
   "outputs": [
    {
     "data": {
      "image/png": "[encoded data removed]",
      "text/plain": [
       "<Figure size 432x288 with 1 Axes>"
      ]
     },
     "metadata": {
      "needs_background": "light"
     },
     "output_type": "display_data"
    }
   ],
   "source": [
    "AUC_TP_bert = plot_auc_curve(df_eval_by_angdist_bert['angdist_bert'].values, df_eval_by_angdist_bert['is_same_intent'].values)\n",
    "add_ev_res({'AUC_TP':AUC_TP_bert}, 'bert', bert_metadata)   "
   ]
  },
  {
   "cell_type": "markdown",
   "metadata": {},
   "source": [
    "#### evaluate USE"
   ]
  },
  {
   "cell_type": "code",
   "execution_count": 113,
   "metadata": {},
   "outputs": [
    {
     "name": "stdout",
     "output_type": "stream",
     "text": [
      "CPU times: user 16.8 s, sys: 16.6 s, total: 33.4 s\n",
      "Wall time: 17.9 s\n"
     ]
    }
   ],
   "source": [
    "%%time\n",
    "angdist_use, cossim_use = sim_exact(np.stack(df_eval['text_emb_use_q'].values), np.stack(df_eval['text_emb_use'].values))\n",
    "df_eval['angdist_use'] = angdist_use#.diagonal()\n",
    "df_eval['cossim_use'] = cossim_use#.diagonal()\n",
    "df_eval_res_by_angdist_use = df_eval.sort_values(by=['angdist_use'], ascending=False)[0:total_TP]"
   ]
  },
  {
   "cell_type": "code",
   "execution_count": 114,
   "metadata": {},
   "outputs": [
    {
     "data": {
      "image/png": "[encoded data removed]",
      "text/plain": [
       "<Figure size 432x288 with 1 Axes>"
      ]
     },
     "metadata": {
      "needs_background": "light"
     },
     "output_type": "display_data"
    }
   ],
   "source": [
    "MAP_DQ_use = plot_precision_recall_curve(df_eval['angdist_use'].values, df_eval['is_same_intent'].values)\n",
    "add_ev_res({'MAP_DQ':MAP_DQ_use}, 'use', use_metadata)   "
   ]
  },
  {
   "cell_type": "code",
   "execution_count": 115,
   "metadata": {},
   "outputs": [
    {
     "data": {
      "image/png": "[encoded data removed]",
      "text/plain": [
       "<Figure size 432x288 with 1 Axes>"
      ]
     },
     "metadata": {
      "needs_background": "light"
     },
     "output_type": "display_data"
    }
   ],
   "source": [
    "MAP_TP_use = plot_precision_recall_curve(df_eval_res_by_angdist_use['angdist_use'].values, df_eval_res_by_angdist_use['is_same_intent'].values)\n",
    "add_ev_res({'MAP_TP':MAP_TP_use}, 'use', use_metadata)   "
   ]
  },
  {
   "cell_type": "code",
   "execution_count": 116,
   "metadata": {},
   "outputs": [
    {
     "data": {
      "image/png": "[encoded data removed]",
      "text/plain": [
       "<Figure size 432x288 with 1 Axes>"
      ]
     },
     "metadata": {
      "needs_background": "light"
     },
     "output_type": "display_data"
    }
   ],
   "source": [
    "AUC_DQ_use = plot_auc_curve(df_eval['angdist_use'].values, df_eval['is_same_intent'].values)\n",
    "add_ev_res({'AUC_DQ':AUC_DQ_use}, 'use', use_metadata)   "
   ]
  },
  {
   "cell_type": "code",
   "execution_count": 117,
   "metadata": {},
   "outputs": [
    {
     "data": {
      "image/png": "[encoded data removed]",
      "text/plain": [
       "<Figure size 432x288 with 1 Axes>"
      ]
     },
     "metadata": {
      "needs_background": "light"
     },
     "output_type": "display_data"
    }
   ],
   "source": [
    "AUC_TP_use = plot_auc_curve(df_eval_res_by_angdist_use['angdist_use'].values, df_eval_res_by_angdist_use['is_same_intent'].values)\n",
    "add_ev_res({'AUC_TP':AUC_TP_use}, 'use', use_metadata)   "
   ]
  },
  {
   "cell_type": "markdown",
   "metadata": {},
   "source": [
    "#### save results"
   ]
  },
  {
   "cell_type": "code",
   "execution_count": 18,
   "metadata": {},
   "outputs": [
    {
     "data": {
      "text/plain": [
       "[{'notebook': 'STS1-v1.8',\n",
       "  'encoder': 'bert',\n",
       "  'emb_metadata': {'version': '1.0',\n",
       "   'encoder': 'BERT',\n",
       "   'model': 'uncased_L-24_H-1024_A-16',\n",
       "   'max_seq_len': 200,\n",
       "   'pooling_strategy': 'REDUCE_MAX',\n",
       "   'pooling_layer': '-1',\n",
       "   'dimensions': 1024},\n",
       "  'metric': {'name': 'MAP_DQ', 'value': 0.3099548283330141}},\n",
       " {'notebook': 'STS1-v1.8',\n",
       "  'encoder': 'bert',\n",
       "  'emb_metadata': {'version': '1.0',\n",
       "   'encoder': 'BERT',\n",
       "   'model': 'uncased_L-24_H-1024_A-16',\n",
       "   'max_seq_len': 200,\n",
       "   'pooling_strategy': 'REDUCE_MAX',\n",
       "   'pooling_layer': '-1',\n",
       "   'dimensions': 1024},\n",
       "  'metric': {'name': 'MAP_TP', 'value': 0.37466984389654867}},\n",
       " {'notebook': 'STS1-v1.8',\n",
       "  'encoder': 'bert',\n",
       "  'emb_metadata': {'version': '1.0',\n",
       "   'encoder': 'BERT',\n",
       "   'model': 'uncased_L-24_H-1024_A-16',\n",
       "   'max_seq_len': 200,\n",
       "   'pooling_strategy': 'REDUCE_MAX',\n",
       "   'pooling_layer': '-1',\n",
       "   'dimensions': 1024},\n",
       "  'metric': {'name': 'AUC_DQ', 'value': 0.5892543284469047}},\n",
       " {'notebook': 'STS1-v1.8',\n",
       "  'encoder': 'bert',\n",
       "  'emb_metadata': {'version': '1.0',\n",
       "   'encoder': 'BERT',\n",
       "   'model': 'uncased_L-24_H-1024_A-16',\n",
       "   'max_seq_len': 200,\n",
       "   'pooling_strategy': 'REDUCE_MAX',\n",
       "   'pooling_layer': '-1',\n",
       "   'dimensions': 1024},\n",
       "  'metric': {'name': 'AUC_TP', 'value': 0.5537999657545843}}]"
      ]
     },
     "execution_count": 18,
     "metadata": {},
     "output_type": "execute_result"
    }
   ],
   "source": [
    "ev_results"
   ]
  },
  {
   "cell_type": "code",
   "execution_count": 19,
   "metadata": {},
   "outputs": [
    {
     "data": {
      "text/plain": [
       "<pymongo.results.InsertManyResult at 0x12df354c8>"
      ]
     },
     "execution_count": 19,
     "metadata": {},
     "output_type": "execute_result"
    }
   ],
   "source": [
    "db.sts1_bert_use.insert_many(ev_results)"
   ]
  },
  {
   "cell_type": "code",
   "execution_count": null,
   "metadata": {},
   "outputs": [],
   "source": []
  },
  {
   "cell_type": "code",
   "execution_count": 1,
   "metadata": {},
   "outputs": [
    {
     "ename": "NameError",
     "evalue": "name 'server' is not defined",
     "output_type": "error",
     "traceback": [
      "\u001b[0;31m---------------------------------------------------------------------------\u001b[0m",
      "\u001b[0;31mNameError\u001b[0m                                 Traceback (most recent call last)",
      "\u001b[0;32m<ipython-input-1-934092d45e39>\u001b[0m in \u001b[0;36m<module>\u001b[0;34m\u001b[0m\n\u001b[0;32m----> 1\u001b[0;31m \u001b[0mserver\u001b[0m\u001b[0;34m.\u001b[0m\u001b[0mstop\u001b[0m\u001b[0;34m(\u001b[0m\u001b[0;34m)\u001b[0m\u001b[0;34m\u001b[0m\u001b[0m\n\u001b[0m",
      "\u001b[0;31mNameError\u001b[0m: name 'server' is not defined"
     ]
    }
   ],
   "source": [
    "server.stop()"
   ]
  },
  {
   "cell_type": "code",
   "execution_count": null,
   "metadata": {},
   "outputs": [],
   "source": []
  },
  {
   "cell_type": "code",
   "execution_count": null,
   "metadata": {},
   "outputs": [],
   "source": []
  }
 ],
 "metadata": {
  "kernelspec": {
   "display_name": "Python 3",
   "language": "python",
   "name": "python3"
  },
  "language_info": {
   "codemirror_mode": {
    "name": "ipython",
    "version": 3
   },
   "file_extension": ".py",
   "mimetype": "text/x-python",
   "name": "python",
   "nbconvert_exporter": "python",
   "pygments_lexer": "ipython3",
   "version": "3.6.6"
  }
 },
 "nbformat": 4,
 "nbformat_minor": 2
}
