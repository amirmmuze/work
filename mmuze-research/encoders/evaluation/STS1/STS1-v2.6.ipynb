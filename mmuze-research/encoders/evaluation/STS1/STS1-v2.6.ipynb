{
 "cells": [
  {
   "cell_type": "code",
   "execution_count": 1,
   "metadata": {},
   "outputs": [
    {
     "name": "stdout",
     "output_type": "stream",
     "text": [
      "Importing Jupyter notebook from common_functions.ipynb\n",
      "Importing Jupyter notebook from common_functions_message.ipynb\n",
      "Importing Jupyter notebook from common_functions_message.ipynb\n"
     ]
    }
   ],
   "source": [
    "from pymongo import MongoClient\n",
    "from sshtunnel import SSHTunnelForwarder\n",
    "import pprint\n",
    "from bson.objectid import ObjectId\n",
    "import pyperclip as clip\n",
    "import json\n",
    "import tensorflow as tf\n",
    "import pandas as pd\n",
    "import numpy as np\n",
    "import itertools as it\n",
    "# from datasu import auc\n",
    "# import pixiedust\n",
    "# clip.copy(json.dumps(m1['msg']))\n",
    "\n",
    "\n",
    "import nbimporter\n",
    "from nbimporter import NotebookLoader\n",
    "loader = NotebookLoader()\n",
    "from common_functions import *\n",
    "from common_functions_message import *\n",
    "Message = loader.load_module(\"common_functions_message\").Message\n",
    "\n",
    "pd.options.mode.chained_assignment = None  # default='warn'\n"
   ]
  },
  {
   "cell_type": "code",
   "execution_count": 2,
   "metadata": {},
   "outputs": [],
   "source": [
    "notebook_name = 'STS1-v2.6'"
   ]
  },
  {
   "cell_type": "markdown",
   "metadata": {},
   "source": [
    "### funcs"
   ]
  },
  {
   "cell_type": "code",
   "execution_count": 3,
   "metadata": {},
   "outputs": [],
   "source": [
    "def get_emb_from_cache(text, metadata):   \n",
    "    q = create_embeddings_cache_query(text,metadata)\n",
    "    emb_entry = db.embeddings_cache.find_one(q)\n",
    "    return emb_entry['vector']\n",
    "\n",
    "def encode_value(value, metadata):\n",
    "    if isinstance(value,str):\n",
    "        values = [value]\n",
    "    else:\n",
    "        values = value\n",
    "            \n",
    "    embs_list = list(map(lambda v: get_emb_from_cache(v,metadata),values))\n",
    "    return np.array(embs_list)"
   ]
  },
  {
   "cell_type": "code",
   "execution_count": 4,
   "metadata": {},
   "outputs": [],
   "source": [
    "# def get_metadata(embs, field, index):\n",
    "#     meta = embs[field][index]\n",
    "#     dimensions = len(meta['vector'])\n",
    "#     del meta['vector']     \n",
    "#     metadata = {            \n",
    "#         **meta,\n",
    "#         **{'dimensions': dimensions}\n",
    "#     }\n",
    "#     return metadata"
   ]
  },
  {
   "cell_type": "markdown",
   "metadata": {},
   "source": [
    "### load data"
   ]
  },
  {
   "cell_type": "code",
   "execution_count": 5,
   "metadata": {},
   "outputs": [],
   "source": [
    "# MONGO_HOST = \"ec2-52-23-187-115.compute-1.amazonaws.com\"\n",
    "# MONGO_DB = \"marketpulzz\"\n",
    "# server = SSHTunnelForwarder(\n",
    "#     MONGO_HOST,\n",
    "#     ssh_username='ubuntu',\n",
    "#     ssh_pkey=\"/Users/sasha/.ssh/mmuze.pem\",\n",
    "# #     ssh_private_key_password=\"secret\",\n",
    "#     remote_bind_address=('127.0.0.1', 27017),\n",
    "#     local_bind_address=('127.0.0.1', 63327),\n",
    "#     set_keepalive = 5,\n",
    "# )\n",
    "\n",
    "# server.start()\n",
    "# client = MongoClient('127.0.0.1', server.local_bind_port) # server.local_bind_port is assigned local port\n",
    "# db = client[MONGO_DB]"
   ]
  },
  {
   "cell_type": "code",
   "execution_count": 6,
   "metadata": {},
   "outputs": [],
   "source": [
    "MONGO_DB = \"marketpulzz\"\n",
    "client = MongoClient('127.0.0.1', 27017)\n",
    "db = client[MONGO_DB]"
   ]
  },
  {
   "cell_type": "code",
   "execution_count": 7,
   "metadata": {},
   "outputs": [],
   "source": [
    "# m = db.genie_conversation_messages_emb.find_one({})\n",
    "\n",
    "# bert_embs_map = {\n",
    "#     'text': 15\n",
    "# }\n",
    "\n",
    "# bert_metadata = get_metadata(m['embs'],'text',bert_embs_map['text'])\n",
    "# bert_metadata"
   ]
  },
  {
   "cell_type": "code",
   "execution_count": 8,
   "metadata": {},
   "outputs": [
    {
     "data": {
      "text/plain": [
       "['text',\n",
       " 'positive_product_type_tags',\n",
       " 'negative_product_type_tags',\n",
       " 'positive_aspects',\n",
       " 'negative_aspects']"
      ]
     },
     "execution_count": 8,
     "metadata": {},
     "output_type": "execute_result"
    }
   ],
   "source": [
    "sample_mt = db.genie_master_tags.find_one({\"intents.0\":{'$exists':True}})\n",
    "mess = db.genie_conversation_messages.find_one({\"_id\": sample_mt['conversation_message_id']})    \n",
    "fields = list(map(lambda f: f[0], Message(mess).get_fields_for_vector()))\n",
    "fields"
   ]
  },
  {
   "cell_type": "code",
   "execution_count": 9,
   "metadata": {},
   "outputs": [],
   "source": [
    "# fixed_cat_values = 2\n",
    "fields_vector_len = {      \n",
    "    'text':1\n",
    "}\n",
    "\n",
    "\n",
    "fields_vector_desc = {  \n",
    " 'text': 'emb(1)'\n",
    "}\n",
    "\n",
    "exp_metadata = {    \n",
    "  'msg_vector_desc': fields_vector_desc,\n",
    "  'fields': fields\n",
    "}"
   ]
  },
  {
   "cell_type": "code",
   "execution_count": 10,
   "metadata": {},
   "outputs": [],
   "source": [
    "def get_message_for_master_tag(mt):   \n",
    "    mess = db.genie_conversation_messages.find_one({\"_id\": mt['conversation_message_id']})    \n",
    "    fields = Message(mess).get_fields_for_vector(fixed_length_by_field=fields_vector_len, fld_name_suffix=None)\n",
    "    \n",
    "#     def extr_intent(intent):\n",
    "#         row = {**{'intent':intent['name'], 'tag':intent['tag']}, **dict(fields)}   \n",
    "#         retun \n",
    "    intents = mt['intents']\n",
    "    rows = list(map(lambda intent:{**{'intent':intent['name'], 'tag':intent['tag']}, **dict(fields)}, intents))\n",
    "    return rows\n",
    "    \n",
    "master_tags_cursor = db.genie_master_tags.find({\"intents.0\":{'$exists':True}})\n",
    "data = list(it.chain(*map(get_message_for_master_tag, master_tags_cursor)))"
   ]
  },
  {
   "cell_type": "code",
   "execution_count": 11,
   "metadata": {},
   "outputs": [],
   "source": [
    "field_except_text = list(set(fields) - set(['text']))"
   ]
  },
  {
   "cell_type": "code",
   "execution_count": 12,
   "metadata": {},
   "outputs": [
    {
     "data": {
      "text/html": [
       "<div>\n",
       "<style scoped>\n",
       "    .dataframe tbody tr th:only-of-type {\n",
       "        vertical-align: middle;\n",
       "    }\n",
       "\n",
       "    .dataframe tbody tr th {\n",
       "        vertical-align: top;\n",
       "    }\n",
       "\n",
       "    .dataframe thead th {\n",
       "        text-align: right;\n",
       "    }\n",
       "</style>\n",
       "<table border=\"1\" class=\"dataframe\">\n",
       "  <thead>\n",
       "    <tr style=\"text-align: right;\">\n",
       "      <th></th>\n",
       "      <th>intent</th>\n",
       "      <th>tag</th>\n",
       "      <th>text</th>\n",
       "    </tr>\n",
       "  </thead>\n",
       "  <tbody>\n",
       "    <tr>\n",
       "      <th>0</th>\n",
       "      <td>More</td>\n",
       "      <td>true</td>\n",
       "      <td>[more]</td>\n",
       "    </tr>\n",
       "    <tr>\n",
       "      <th>21</th>\n",
       "      <td>More</td>\n",
       "      <td>true</td>\n",
       "      <td>[more option]</td>\n",
       "    </tr>\n",
       "    <tr>\n",
       "      <th>22</th>\n",
       "      <td>More</td>\n",
       "      <td>true</td>\n",
       "      <td>[more options]</td>\n",
       "    </tr>\n",
       "    <tr>\n",
       "      <th>23</th>\n",
       "      <td>More</td>\n",
       "      <td>true</td>\n",
       "      <td>[more options please]</td>\n",
       "    </tr>\n",
       "    <tr>\n",
       "      <th>26</th>\n",
       "      <td>More</td>\n",
       "      <td>true</td>\n",
       "      <td>[More products]</td>\n",
       "    </tr>\n",
       "  </tbody>\n",
       "</table>\n",
       "</div>"
      ],
      "text/plain": [
       "   intent   tag                   text\n",
       "0    More  true                 [more]\n",
       "21   More  true          [more option]\n",
       "22   More  true         [more options]\n",
       "23   More  true  [more options please]\n",
       "26   More  true        [More products]"
      ]
     },
     "execution_count": 12,
     "metadata": {},
     "output_type": "execute_result"
    }
   ],
   "source": [
    "df_data_all_unfiltered = pd.DataFrame(data)\n",
    "df_data_all = df_data_all_unfiltered.loc[np.array(df_data_all_unfiltered.tag=='true')].copy()\n",
    "rows_with_fields_mask = np.array(df_data_all[field_except_text].apply(lambda row: row.apply(lambda values: len(list((filter(lambda v: v!='*',values))))).sum() == 0,axis=1))\n",
    "df_data_all = df_data_all.loc[rows_with_fields_mask].copy()\n",
    "df_data_all.drop(field_except_text, axis=1, inplace=True)\n",
    "\n",
    "# df_data_all[0:150]['intent'] = 'refund'\n",
    "# df_data_all[0:150]['text'] = 'I want my money back as soon as possible. Thanks'\n",
    "df_data_all.head()"
   ]
  },
  {
   "cell_type": "code",
   "execution_count": 13,
   "metadata": {},
   "outputs": [],
   "source": [
    "# np.histogram(df_data_all['negative_product_type_tags'].apply(len))\n",
    "# df_data_all['positive_aspects'].apply(len).hist()"
   ]
  },
  {
   "cell_type": "markdown",
   "metadata": {},
   "source": [
    "### encode data"
   ]
  },
  {
   "cell_type": "markdown",
   "metadata": {},
   "source": [
    "##### BERT"
   ]
  },
  {
   "cell_type": "code",
   "execution_count": 14,
   "metadata": {},
   "outputs": [],
   "source": [
    "bert_metadata = {            \n",
    "    'version': '1.0',\n",
    "    'encoder': 'BERT',\n",
    "    'model': 'uncased_L-12_H-768_A-12',    \n",
    "    'max_seq_len': 200,\n",
    "    'pooling_strategy': 'REDUCE_MEAN', \n",
    "    'pooling_layer': '-5',\n",
    "    'dimensions':768\n",
    "}"
   ]
  },
  {
   "cell_type": "code",
   "execution_count": 15,
   "metadata": {},
   "outputs": [
    {
     "name": "stdout",
     "output_type": "stream",
     "text": [
      "CPU times: user 819 ms, sys: 64.3 ms, total: 884 ms\n",
      "Wall time: 9.09 s\n"
     ]
    }
   ],
   "source": [
    "%%time\n",
    "bert_embs = df_data_all[['text']].applymap(lambda v: encode_value(v,bert_metadata))\n",
    "df_data_all['emb_bert'] = bert_embs.apply(lambda cols_embs: np.concatenate(cols_embs, axis=None), axis=1)\n",
    "bert_metadata['dimensions'] = df_data_all['emb_bert'][0].shape[0]"
   ]
  },
  {
   "cell_type": "code",
   "execution_count": 16,
   "metadata": {},
   "outputs": [
    {
     "data": {
      "text/html": [
       "<div>\n",
       "<style scoped>\n",
       "    .dataframe tbody tr th:only-of-type {\n",
       "        vertical-align: middle;\n",
       "    }\n",
       "\n",
       "    .dataframe tbody tr th {\n",
       "        vertical-align: top;\n",
       "    }\n",
       "\n",
       "    .dataframe thead th {\n",
       "        text-align: right;\n",
       "    }\n",
       "</style>\n",
       "<table border=\"1\" class=\"dataframe\">\n",
       "  <thead>\n",
       "    <tr style=\"text-align: right;\">\n",
       "      <th></th>\n",
       "      <th>intent</th>\n",
       "      <th>tag</th>\n",
       "      <th>text</th>\n",
       "      <th>emb_bert</th>\n",
       "    </tr>\n",
       "  </thead>\n",
       "  <tbody>\n",
       "    <tr>\n",
       "      <th>0</th>\n",
       "      <td>More</td>\n",
       "      <td>true</td>\n",
       "      <td>[more]</td>\n",
       "      <td>[-0.34317147731781006, -0.32750093936920166, -...</td>\n",
       "    </tr>\n",
       "    <tr>\n",
       "      <th>21</th>\n",
       "      <td>More</td>\n",
       "      <td>true</td>\n",
       "      <td>[more option]</td>\n",
       "      <td>[-0.045591987669467926, -0.5629469752311707, -...</td>\n",
       "    </tr>\n",
       "    <tr>\n",
       "      <th>22</th>\n",
       "      <td>More</td>\n",
       "      <td>true</td>\n",
       "      <td>[more options]</td>\n",
       "      <td>[0.11497955769300461, -0.37380194664001465, -0...</td>\n",
       "    </tr>\n",
       "    <tr>\n",
       "      <th>23</th>\n",
       "      <td>More</td>\n",
       "      <td>true</td>\n",
       "      <td>[more options please]</td>\n",
       "      <td>[0.148829385638237, -0.4163428246974945, 0.112...</td>\n",
       "    </tr>\n",
       "    <tr>\n",
       "      <th>26</th>\n",
       "      <td>More</td>\n",
       "      <td>true</td>\n",
       "      <td>[More products]</td>\n",
       "      <td>[0.10115775465965271, -0.2510954737663269, -0....</td>\n",
       "    </tr>\n",
       "  </tbody>\n",
       "</table>\n",
       "</div>"
      ],
      "text/plain": [
       "   intent   tag                   text  \\\n",
       "0    More  true                 [more]   \n",
       "21   More  true          [more option]   \n",
       "22   More  true         [more options]   \n",
       "23   More  true  [more options please]   \n",
       "26   More  true        [More products]   \n",
       "\n",
       "                                             emb_bert  \n",
       "0   [-0.34317147731781006, -0.32750093936920166, -...  \n",
       "21  [-0.045591987669467926, -0.5629469752311707, -...  \n",
       "22  [0.11497955769300461, -0.37380194664001465, -0...  \n",
       "23  [0.148829385638237, -0.4163428246974945, 0.112...  \n",
       "26  [0.10115775465965271, -0.2510954737663269, -0....  "
      ]
     },
     "execution_count": 16,
     "metadata": {},
     "output_type": "execute_result"
    }
   ],
   "source": [
    "df_data_all.head()"
   ]
  },
  {
   "cell_type": "markdown",
   "metadata": {},
   "source": [
    "##### USE"
   ]
  },
  {
   "cell_type": "code",
   "execution_count": 17,
   "metadata": {},
   "outputs": [],
   "source": [
    "use_metadata = {\n",
    "    'version': '1.0',\n",
    "    'encoder': 'USE',   \n",
    "    'model': 'https://tfhub.dev/google/universal-sentence-encoder-large/3',\n",
    "    'dimensions':512\n",
    "}"
   ]
  },
  {
   "cell_type": "code",
   "execution_count": 18,
   "metadata": {},
   "outputs": [
    {
     "name": "stdout",
     "output_type": "stream",
     "text": [
      "CPU times: user 867 ms, sys: 63.2 ms, total: 930 ms\n",
      "Wall time: 11.6 s\n"
     ]
    }
   ],
   "source": [
    "%%time\n",
    "use_embs = df_data_all[['text']].applymap(lambda v: encode_value(v,use_metadata))\n",
    "df_data_all['emb_use'] = use_embs.apply(lambda cols_embs: np.concatenate(cols_embs, axis=None), axis=1)\n",
    "use_metadata['dimensions'] = df_data_all['emb_use'][0].shape[0]"
   ]
  },
  {
   "cell_type": "code",
   "execution_count": 19,
   "metadata": {},
   "outputs": [
    {
     "data": {
      "text/html": [
       "<div>\n",
       "<style scoped>\n",
       "    .dataframe tbody tr th:only-of-type {\n",
       "        vertical-align: middle;\n",
       "    }\n",
       "\n",
       "    .dataframe tbody tr th {\n",
       "        vertical-align: top;\n",
       "    }\n",
       "\n",
       "    .dataframe thead th {\n",
       "        text-align: right;\n",
       "    }\n",
       "</style>\n",
       "<table border=\"1\" class=\"dataframe\">\n",
       "  <thead>\n",
       "    <tr style=\"text-align: right;\">\n",
       "      <th></th>\n",
       "      <th>intent</th>\n",
       "      <th>tag</th>\n",
       "      <th>text</th>\n",
       "      <th>emb_bert</th>\n",
       "      <th>emb_use</th>\n",
       "    </tr>\n",
       "  </thead>\n",
       "  <tbody>\n",
       "    <tr>\n",
       "      <th>0</th>\n",
       "      <td>More</td>\n",
       "      <td>true</td>\n",
       "      <td>[more]</td>\n",
       "      <td>[-0.34317147731781006, -0.32750093936920166, -...</td>\n",
       "      <td>[-0.01044059731066227, -0.036302391439676285, ...</td>\n",
       "    </tr>\n",
       "    <tr>\n",
       "      <th>21</th>\n",
       "      <td>More</td>\n",
       "      <td>true</td>\n",
       "      <td>[more option]</td>\n",
       "      <td>[-0.045591987669467926, -0.5629469752311707, -...</td>\n",
       "      <td>[0.009036039933562279, 0.05231931060552597, 0....</td>\n",
       "    </tr>\n",
       "    <tr>\n",
       "      <th>22</th>\n",
       "      <td>More</td>\n",
       "      <td>true</td>\n",
       "      <td>[more options]</td>\n",
       "      <td>[0.11497955769300461, -0.37380194664001465, -0...</td>\n",
       "      <td>[0.019043365493416786, 0.065824493765831, 0.02...</td>\n",
       "    </tr>\n",
       "    <tr>\n",
       "      <th>23</th>\n",
       "      <td>More</td>\n",
       "      <td>true</td>\n",
       "      <td>[more options please]</td>\n",
       "      <td>[0.148829385638237, -0.4163428246974945, 0.112...</td>\n",
       "      <td>[0.01806405372917652, 0.0624786913394928, 0.02...</td>\n",
       "    </tr>\n",
       "    <tr>\n",
       "      <th>26</th>\n",
       "      <td>More</td>\n",
       "      <td>true</td>\n",
       "      <td>[More products]</td>\n",
       "      <td>[0.10115775465965271, -0.2510954737663269, -0....</td>\n",
       "      <td>[0.01804543472826481, 0.015222439542412758, 0....</td>\n",
       "    </tr>\n",
       "  </tbody>\n",
       "</table>\n",
       "</div>"
      ],
      "text/plain": [
       "   intent   tag                   text  \\\n",
       "0    More  true                 [more]   \n",
       "21   More  true          [more option]   \n",
       "22   More  true         [more options]   \n",
       "23   More  true  [more options please]   \n",
       "26   More  true        [More products]   \n",
       "\n",
       "                                             emb_bert  \\\n",
       "0   [-0.34317147731781006, -0.32750093936920166, -...   \n",
       "21  [-0.045591987669467926, -0.5629469752311707, -...   \n",
       "22  [0.11497955769300461, -0.37380194664001465, -0...   \n",
       "23  [0.148829385638237, -0.4163428246974945, 0.112...   \n",
       "26  [0.10115775465965271, -0.2510954737663269, -0....   \n",
       "\n",
       "                                              emb_use  \n",
       "0   [-0.01044059731066227, -0.036302391439676285, ...  \n",
       "21  [0.009036039933562279, 0.05231931060552597, 0....  \n",
       "22  [0.019043365493416786, 0.065824493765831, 0.02...  \n",
       "23  [0.01806405372917652, 0.0624786913394928, 0.02...  \n",
       "26  [0.01804543472826481, 0.015222439542412758, 0....  "
      ]
     },
     "execution_count": 19,
     "metadata": {},
     "output_type": "execute_result"
    }
   ],
   "source": [
    "df_data_all.head()"
   ]
  },
  {
   "cell_type": "markdown",
   "metadata": {},
   "source": [
    "### evaluation"
   ]
  },
  {
   "cell_type": "code",
   "execution_count": 20,
   "metadata": {},
   "outputs": [
    {
     "data": {
      "text/html": [
       "<div>\n",
       "<style scoped>\n",
       "    .dataframe tbody tr th:only-of-type {\n",
       "        vertical-align: middle;\n",
       "    }\n",
       "\n",
       "    .dataframe tbody tr th {\n",
       "        vertical-align: top;\n",
       "    }\n",
       "\n",
       "    .dataframe thead tr th {\n",
       "        text-align: left;\n",
       "    }\n",
       "\n",
       "    .dataframe thead tr:last-of-type th {\n",
       "        text-align: right;\n",
       "    }\n",
       "</style>\n",
       "<table border=\"1\" class=\"dataframe\">\n",
       "  <thead>\n",
       "    <tr>\n",
       "      <th></th>\n",
       "      <th colspan=\"3\" halign=\"left\">count</th>\n",
       "    </tr>\n",
       "    <tr>\n",
       "      <th>tag</th>\n",
       "      <th>amb</th>\n",
       "      <th>false</th>\n",
       "      <th>true</th>\n",
       "    </tr>\n",
       "    <tr>\n",
       "      <th>name</th>\n",
       "      <th></th>\n",
       "      <th></th>\n",
       "      <th></th>\n",
       "    </tr>\n",
       "  </thead>\n",
       "  <tbody>\n",
       "    <tr>\n",
       "      <th>Add to Wishlist</th>\n",
       "      <td>NaN</td>\n",
       "      <td>18.0</td>\n",
       "      <td>4.0</td>\n",
       "    </tr>\n",
       "    <tr>\n",
       "      <th>Back</th>\n",
       "      <td>NaN</td>\n",
       "      <td>29.0</td>\n",
       "      <td>17.0</td>\n",
       "    </tr>\n",
       "    <tr>\n",
       "      <th>Compare</th>\n",
       "      <td>NaN</td>\n",
       "      <td>24.0</td>\n",
       "      <td>NaN</td>\n",
       "    </tr>\n",
       "    <tr>\n",
       "      <th>Complementary</th>\n",
       "      <td>NaN</td>\n",
       "      <td>105.0</td>\n",
       "      <td>63.0</td>\n",
       "    </tr>\n",
       "    <tr>\n",
       "      <th>Customer Support</th>\n",
       "      <td>1.0</td>\n",
       "      <td>26.0</td>\n",
       "      <td>631.0</td>\n",
       "    </tr>\n",
       "    <tr>\n",
       "      <th>Frustration</th>\n",
       "      <td>8.0</td>\n",
       "      <td>97.0</td>\n",
       "      <td>13.0</td>\n",
       "    </tr>\n",
       "    <tr>\n",
       "      <th>Help</th>\n",
       "      <td>NaN</td>\n",
       "      <td>48.0</td>\n",
       "      <td>16.0</td>\n",
       "    </tr>\n",
       "    <tr>\n",
       "      <th>Introduction</th>\n",
       "      <td>NaN</td>\n",
       "      <td>17.0</td>\n",
       "      <td>8.0</td>\n",
       "    </tr>\n",
       "    <tr>\n",
       "      <th>More</th>\n",
       "      <td>34.0</td>\n",
       "      <td>32.0</td>\n",
       "      <td>17.0</td>\n",
       "    </tr>\n",
       "    <tr>\n",
       "      <th>New Facecare Regimen</th>\n",
       "      <td>NaN</td>\n",
       "      <td>238.0</td>\n",
       "      <td>95.0</td>\n",
       "    </tr>\n",
       "    <tr>\n",
       "      <th>Order Information</th>\n",
       "      <td>NaN</td>\n",
       "      <td>116.0</td>\n",
       "      <td>367.0</td>\n",
       "    </tr>\n",
       "    <tr>\n",
       "      <th>Product Aspect Information</th>\n",
       "      <td>NaN</td>\n",
       "      <td>122.0</td>\n",
       "      <td>90.0</td>\n",
       "    </tr>\n",
       "    <tr>\n",
       "      <th>Product not found</th>\n",
       "      <td>NaN</td>\n",
       "      <td>128.0</td>\n",
       "      <td>396.0</td>\n",
       "    </tr>\n",
       "    <tr>\n",
       "      <th>Shop new arrivals</th>\n",
       "      <td>2.0</td>\n",
       "      <td>1.0</td>\n",
       "      <td>4.0</td>\n",
       "    </tr>\n",
       "  </tbody>\n",
       "</table>\n",
       "</div>"
      ],
      "text/plain": [
       "                           count              \n",
       "tag                          amb  false   true\n",
       "name                                          \n",
       "Add to Wishlist              NaN   18.0    4.0\n",
       "Back                         NaN   29.0   17.0\n",
       "Compare                      NaN   24.0    NaN\n",
       "Complementary                NaN  105.0   63.0\n",
       "Customer Support             1.0   26.0  631.0\n",
       "Frustration                  8.0   97.0   13.0\n",
       "Help                         NaN   48.0   16.0\n",
       "Introduction                 NaN   17.0    8.0\n",
       "More                        34.0   32.0   17.0\n",
       "New Facecare Regimen         NaN  238.0   95.0\n",
       "Order Information            NaN  116.0  367.0\n",
       "Product Aspect Information   NaN  122.0   90.0\n",
       "Product not found            NaN  128.0  396.0\n",
       "Shop new arrivals            2.0    1.0    4.0"
      ]
     },
     "execution_count": 20,
     "metadata": {},
     "output_type": "execute_result"
    }
   ],
   "source": [
    "pipeline = [\n",
    "{'$unwind': '$intents'},\n",
    "{'$project' : {'_id': 0, 'intents.name' : 1 , 'intents.category' : 1, 'intents.tag' : 1 } },\n",
    "{'$group' : {\n",
    "       '_id' : { \n",
    "            'name': \"$intents.name\", \n",
    "            'category': '$intents.category', \n",
    "            'tag': '$intents.tag' \n",
    "        },\n",
    "        'name': {'$first': \"$intents.name\"}, \n",
    "        'category': {'$first':'$intents.category'}, \n",
    "        'tag': {'$first':'$intents.tag'},      \n",
    "        'count': { '$sum': 1 }\n",
    "    }\n",
    "},\n",
    "{'$project' : {'_id': 0, 'name' : 1 , 'category' : 1, 'tag' : 1,'count' : 1 }}\n",
    "]\n",
    "\n",
    "master_tag_stats = list(db.genie_master_tags.aggregate(pipeline))\n",
    "df_master_tag_stats = pd.DataFrame(master_tag_stats, columns=['category','name','tag','count'])\n",
    "df_master_tag_stats.pivot(index='name',values=['count'],columns='tag')"
   ]
  },
  {
   "cell_type": "code",
   "execution_count": 21,
   "metadata": {},
   "outputs": [
    {
     "name": "stdout",
     "output_type": "stream",
     "text": [
      "max message length:  1\n"
     ]
    },
    {
     "data": {
      "text/html": [
       "<div>\n",
       "<style scoped>\n",
       "    .dataframe tbody tr th:only-of-type {\n",
       "        vertical-align: middle;\n",
       "    }\n",
       "\n",
       "    .dataframe tbody tr th {\n",
       "        vertical-align: top;\n",
       "    }\n",
       "\n",
       "    .dataframe thead th {\n",
       "        text-align: right;\n",
       "    }\n",
       "</style>\n",
       "<table border=\"1\" class=\"dataframe\">\n",
       "  <thead>\n",
       "    <tr style=\"text-align: right;\">\n",
       "      <th></th>\n",
       "      <th>intent</th>\n",
       "      <th>tag</th>\n",
       "      <th>text</th>\n",
       "      <th>emb_bert</th>\n",
       "      <th>emb_use</th>\n",
       "      <th>intent_prob</th>\n",
       "    </tr>\n",
       "  </thead>\n",
       "  <tbody>\n",
       "    <tr>\n",
       "      <th>0</th>\n",
       "      <td>More</td>\n",
       "      <td>true</td>\n",
       "      <td>[more]</td>\n",
       "      <td>[-0.34317147731781006, -0.32750093936920166, -...</td>\n",
       "      <td>[-0.01044059731066227, -0.036302391439676285, ...</td>\n",
       "      <td>1.0</td>\n",
       "    </tr>\n",
       "    <tr>\n",
       "      <th>21</th>\n",
       "      <td>More</td>\n",
       "      <td>true</td>\n",
       "      <td>[more option]</td>\n",
       "      <td>[-0.045591987669467926, -0.5629469752311707, -...</td>\n",
       "      <td>[0.009036039933562279, 0.05231931060552597, 0....</td>\n",
       "      <td>1.0</td>\n",
       "    </tr>\n",
       "    <tr>\n",
       "      <th>22</th>\n",
       "      <td>More</td>\n",
       "      <td>true</td>\n",
       "      <td>[more options]</td>\n",
       "      <td>[0.11497955769300461, -0.37380194664001465, -0...</td>\n",
       "      <td>[0.019043365493416786, 0.065824493765831, 0.02...</td>\n",
       "      <td>1.0</td>\n",
       "    </tr>\n",
       "    <tr>\n",
       "      <th>23</th>\n",
       "      <td>More</td>\n",
       "      <td>true</td>\n",
       "      <td>[more options please]</td>\n",
       "      <td>[0.148829385638237, -0.4163428246974945, 0.112...</td>\n",
       "      <td>[0.01806405372917652, 0.0624786913394928, 0.02...</td>\n",
       "      <td>1.0</td>\n",
       "    </tr>\n",
       "    <tr>\n",
       "      <th>26</th>\n",
       "      <td>More</td>\n",
       "      <td>true</td>\n",
       "      <td>[More products]</td>\n",
       "      <td>[0.10115775465965271, -0.2510954737663269, -0....</td>\n",
       "      <td>[0.01804543472826481, 0.015222439542412758, 0....</td>\n",
       "      <td>1.0</td>\n",
       "    </tr>\n",
       "  </tbody>\n",
       "</table>\n",
       "</div>"
      ],
      "text/plain": [
       "   intent   tag                   text  \\\n",
       "0    More  true                 [more]   \n",
       "21   More  true          [more option]   \n",
       "22   More  true         [more options]   \n",
       "23   More  true  [more options please]   \n",
       "26   More  true        [More products]   \n",
       "\n",
       "                                             emb_bert  \\\n",
       "0   [-0.34317147731781006, -0.32750093936920166, -...   \n",
       "21  [-0.045591987669467926, -0.5629469752311707, -...   \n",
       "22  [0.11497955769300461, -0.37380194664001465, -0...   \n",
       "23  [0.148829385638237, -0.4163428246974945, 0.112...   \n",
       "26  [0.10115775465965271, -0.2510954737663269, -0....   \n",
       "\n",
       "                                              emb_use  intent_prob  \n",
       "0   [-0.01044059731066227, -0.036302391439676285, ...          1.0  \n",
       "21  [0.009036039933562279, 0.05231931060552597, 0....          1.0  \n",
       "22  [0.019043365493416786, 0.065824493765831, 0.02...          1.0  \n",
       "23  [0.01806405372917652, 0.0624786913394928, 0.02...          1.0  \n",
       "26  [0.01804543472826481, 0.015222439542412758, 0....          1.0  "
      ]
     },
     "execution_count": 21,
     "metadata": {},
     "output_type": "execute_result"
    }
   ],
   "source": [
    "def smooth_intent_prob(w):\n",
    "    return w*100 if w < 0.01 else w\n",
    "\n",
    "# print(\"total count: \",df_data_all.shape[0])\n",
    "# df_data_agg_by_intent = pd.DataFrame(df_data_all.groupby(['intent']).count()['tag'])\n",
    "# df_data_agg_by_intent.rename(columns={'tag':'count'}, inplace=True)\n",
    "# df_data_agg_by_intent['intent_prob'] = df_data_agg_by_intent/df_data_agg_by_intent.sum()\n",
    "# df_data_agg_by_intent['intent_prob_smoothed'] = df_data_agg_by_intent['intent_prob'].apply(smooth_intent_prob)\n",
    "# df_data_agg_by_intent\n",
    "\n",
    "#calc intent pro\n",
    "df_data_all['intent_prob'] = 1.0#df_data_all.groupby(['intent']).transform('count')['text']/df_data_all.shape[0]\n",
    "# df_data_all['intent_prob_weighted'] = df_data_all.groupby(['intent']).transform('count')['text']/df_data_all.shape[0]\n",
    "# df_data_all['intent_prob_smoothed'] = df_data_all['intent_prob'].apply(smooth_intent_prob)\n",
    "print(\"max message length: \", df_data_all['text'].map(len).max())\n",
    "df_data_all.head(n=5)"
   ]
  },
  {
   "cell_type": "code",
   "execution_count": 22,
   "metadata": {},
   "outputs": [
    {
     "name": "stdout",
     "output_type": "stream",
     "text": [
      "                      data  query  query_TP  Q/D ratio\n",
      "intent                                                \n",
      "Add to Wishlist          3      1         3      0.333\n",
      "Back                     7      3        21      0.429\n",
      "Complementary            8      3        24      0.375\n",
      "Customer Support       150     83     12450      0.553\n",
      "Frustration              6      5        30      0.833\n",
      "Help                    10      6        60      0.600\n",
      "Introduction             5      3        15      0.600\n",
      "More                    11      6        66      0.545\n",
      "New Facecare Regimen    29     16       464      0.552\n",
      "Order Information      193     98     18914      0.508\n",
      "Product not found      145     75     10875      0.517\n",
      "Shop new arrivals        1      1         1      1.000\n",
      "\n",
      "total: 868 => query:300 + data:568\n",
      "total rows:170400 => total TP:42923 TP_ratio:0.25\n"
     ]
    }
   ],
   "source": [
    "N = 300\n",
    "df_query = df_data_all.sample(n=N, weights='intent_prob',random_state=888)\n",
    "# df_query = df_data_all.sample(n=N, weights='intent_prob',random_state=108)\n",
    "df_query\n",
    "df_data = df_data_all.drop(df_query.index)\n",
    "\n",
    "df_query_stats = pd.DataFrame()\n",
    "df_query_stats['data'] = df_data.groupby(['intent']).count()['text']\n",
    "df_query_stats['query'] = df_query.groupby(['intent']).count()['text']\n",
    "df_query_stats['query_TP'] = df_query_stats['query']*df_query_stats['data']\n",
    "df_query_stats['Q/D ratio'] = round(df_query_stats['query']/df_query_stats['data'],3)\n",
    "\n",
    "data_metadata = {\n",
    "    'intents': df_query_stats.index.values.tolist(),\n",
    "    'data_query_stats':df_query_stats.to_dict()\n",
    "}\n",
    "\n",
    "print(df_query_stats)\n",
    "print(\"\")\n",
    "print(f\"total: {len(df_data_all)} => query:{len(df_query)} + data:{len(df_data)}\")\n",
    "total_rows = len(df_query)*len(df_data)\n",
    "total_TP = df_query_stats['query_TP'].sum()\n",
    "print(f\"total rows:{total_rows} => total TP:{total_TP} TP_ratio:{round(df_query_stats['query_TP'].sum()/total_rows, 2)}\")"
   ]
  },
  {
   "cell_type": "code",
   "execution_count": 23,
   "metadata": {},
   "outputs": [
    {
     "name": "stdout",
     "output_type": "stream",
     "text": [
      "total rows:  170400\n"
     ]
    },
    {
     "data": {
      "text/html": [
       "<div>\n",
       "<style scoped>\n",
       "    .dataframe tbody tr th:only-of-type {\n",
       "        vertical-align: middle;\n",
       "    }\n",
       "\n",
       "    .dataframe tbody tr th {\n",
       "        vertical-align: top;\n",
       "    }\n",
       "\n",
       "    .dataframe thead th {\n",
       "        text-align: right;\n",
       "    }\n",
       "</style>\n",
       "<table border=\"1\" class=\"dataframe\">\n",
       "  <thead>\n",
       "    <tr style=\"text-align: right;\">\n",
       "      <th></th>\n",
       "      <th></th>\n",
       "      <th>emb_bert_q</th>\n",
       "      <th>emb_use_q</th>\n",
       "      <th>intent_q</th>\n",
       "      <th>intent</th>\n",
       "      <th>tag</th>\n",
       "      <th>text</th>\n",
       "      <th>emb_bert</th>\n",
       "      <th>emb_use</th>\n",
       "      <th>intent_prob</th>\n",
       "      <th>is_same_intent</th>\n",
       "    </tr>\n",
       "  </thead>\n",
       "  <tbody>\n",
       "    <tr>\n",
       "      <th rowspan=\"5\" valign=\"top\">2132</th>\n",
       "      <th>0</th>\n",
       "      <td>[0.2320401966571808, -0.28391942381858826, -0....</td>\n",
       "      <td>[0.03388769552111626, -0.010490004904568195, -...</td>\n",
       "      <td>Customer Support</td>\n",
       "      <td>More</td>\n",
       "      <td>true</td>\n",
       "      <td>[more]</td>\n",
       "      <td>[-0.34317147731781006, -0.32750093936920166, -...</td>\n",
       "      <td>[-0.01044059731066227, -0.036302391439676285, ...</td>\n",
       "      <td>1.0</td>\n",
       "      <td>False</td>\n",
       "    </tr>\n",
       "    <tr>\n",
       "      <th>22</th>\n",
       "      <td>[0.2320401966571808, -0.28391942381858826, -0....</td>\n",
       "      <td>[0.03388769552111626, -0.010490004904568195, -...</td>\n",
       "      <td>Customer Support</td>\n",
       "      <td>More</td>\n",
       "      <td>true</td>\n",
       "      <td>[more options]</td>\n",
       "      <td>[0.11497955769300461, -0.37380194664001465, -0...</td>\n",
       "      <td>[0.019043365493416786, 0.065824493765831, 0.02...</td>\n",
       "      <td>1.0</td>\n",
       "      <td>False</td>\n",
       "    </tr>\n",
       "    <tr>\n",
       "      <th>23</th>\n",
       "      <td>[0.2320401966571808, -0.28391942381858826, -0....</td>\n",
       "      <td>[0.03388769552111626, -0.010490004904568195, -...</td>\n",
       "      <td>Customer Support</td>\n",
       "      <td>More</td>\n",
       "      <td>true</td>\n",
       "      <td>[more options please]</td>\n",
       "      <td>[0.148829385638237, -0.4163428246974945, 0.112...</td>\n",
       "      <td>[0.01806405372917652, 0.0624786913394928, 0.02...</td>\n",
       "      <td>1.0</td>\n",
       "      <td>False</td>\n",
       "    </tr>\n",
       "    <tr>\n",
       "      <th>26</th>\n",
       "      <td>[0.2320401966571808, -0.28391942381858826, -0....</td>\n",
       "      <td>[0.03388769552111626, -0.010490004904568195, -...</td>\n",
       "      <td>Customer Support</td>\n",
       "      <td>More</td>\n",
       "      <td>true</td>\n",
       "      <td>[More products]</td>\n",
       "      <td>[0.10115775465965271, -0.2510954737663269, -0....</td>\n",
       "      <td>[0.01804543472826481, 0.015222439542412758, 0....</td>\n",
       "      <td>1.0</td>\n",
       "      <td>False</td>\n",
       "    </tr>\n",
       "    <tr>\n",
       "      <th>27</th>\n",
       "      <td>[0.2320401966571808, -0.28391942381858826, -0....</td>\n",
       "      <td>[0.03388769552111626, -0.010490004904568195, -...</td>\n",
       "      <td>Customer Support</td>\n",
       "      <td>More</td>\n",
       "      <td>true</td>\n",
       "      <td>[More products please]</td>\n",
       "      <td>[0.2176562249660492, -0.33121806383132935, 0.0...</td>\n",
       "      <td>[-0.0006539868772961199, -0.03015582635998726,...</td>\n",
       "      <td>1.0</td>\n",
       "      <td>False</td>\n",
       "    </tr>\n",
       "  </tbody>\n",
       "</table>\n",
       "</div>"
      ],
      "text/plain": [
       "                                                emb_bert_q  \\\n",
       "2132 0   [0.2320401966571808, -0.28391942381858826, -0....   \n",
       "     22  [0.2320401966571808, -0.28391942381858826, -0....   \n",
       "     23  [0.2320401966571808, -0.28391942381858826, -0....   \n",
       "     26  [0.2320401966571808, -0.28391942381858826, -0....   \n",
       "     27  [0.2320401966571808, -0.28391942381858826, -0....   \n",
       "\n",
       "                                                 emb_use_q          intent_q  \\\n",
       "2132 0   [0.03388769552111626, -0.010490004904568195, -...  Customer Support   \n",
       "     22  [0.03388769552111626, -0.010490004904568195, -...  Customer Support   \n",
       "     23  [0.03388769552111626, -0.010490004904568195, -...  Customer Support   \n",
       "     26  [0.03388769552111626, -0.010490004904568195, -...  Customer Support   \n",
       "     27  [0.03388769552111626, -0.010490004904568195, -...  Customer Support   \n",
       "\n",
       "        intent   tag                    text  \\\n",
       "2132 0    More  true                  [more]   \n",
       "     22   More  true          [more options]   \n",
       "     23   More  true   [more options please]   \n",
       "     26   More  true         [More products]   \n",
       "     27   More  true  [More products please]   \n",
       "\n",
       "                                                  emb_bert  \\\n",
       "2132 0   [-0.34317147731781006, -0.32750093936920166, -...   \n",
       "     22  [0.11497955769300461, -0.37380194664001465, -0...   \n",
       "     23  [0.148829385638237, -0.4163428246974945, 0.112...   \n",
       "     26  [0.10115775465965271, -0.2510954737663269, -0....   \n",
       "     27  [0.2176562249660492, -0.33121806383132935, 0.0...   \n",
       "\n",
       "                                                   emb_use  intent_prob  \\\n",
       "2132 0   [-0.01044059731066227, -0.036302391439676285, ...          1.0   \n",
       "     22  [0.019043365493416786, 0.065824493765831, 0.02...          1.0   \n",
       "     23  [0.01806405372917652, 0.0624786913394928, 0.02...          1.0   \n",
       "     26  [0.01804543472826481, 0.015222439542412758, 0....          1.0   \n",
       "     27  [-0.0006539868772961199, -0.03015582635998726,...          1.0   \n",
       "\n",
       "         is_same_intent  \n",
       "2132 0            False  \n",
       "     22           False  \n",
       "     23           False  \n",
       "     26           False  \n",
       "     27           False  "
      ]
     },
     "execution_count": 23,
     "metadata": {},
     "output_type": "execute_result"
    }
   ],
   "source": [
    "df_eval = df_crossjoin(df_query[['emb_bert', 'emb_use', 'intent']], df_data, suffixes=('_q', ''))\n",
    "# df_eval = df_crossjoin(df_query[['emb_use', 'intent']], df_data, suffixes=('_q', ''))\n",
    "# df_eval = df_crossjoin(df_query[['emb_bert', 'intent']], df_data, suffixes=('_q', ''))\n",
    "\n",
    "df_eval['is_same_intent'] = (df_eval['intent_q'] == df_eval['intent']).values\n",
    "print(\"total rows: \",df_eval.shape[0])\n",
    "df_eval.head(n=5)"
   ]
  },
  {
   "cell_type": "code",
   "execution_count": 24,
   "metadata": {},
   "outputs": [],
   "source": [
    "ev_results = []\n",
    "def add_ev_res(res, encoder, emb_metadata, exp_metadata, data_metadata):  \n",
    "    metric = [{'name':k, 'value':v} for k,v in res.items()][0]\n",
    "    ev_res = {\n",
    "        'notebook': notebook_name,\n",
    "        'encoder':encoder,\n",
    "        'emb_metadata': emb_metadata, \n",
    "        'exp_metadata':exp_metadata,\n",
    "        'metric': metric,\n",
    "        'data_metadata': data_metadata\n",
    "    }    \n",
    "    \n",
    "#     ev_res = {**exp, **res}    \n",
    "    ev_results.append(ev_res)"
   ]
  },
  {
   "cell_type": "code",
   "execution_count": 25,
   "metadata": {},
   "outputs": [],
   "source": [
    "# import sys\n",
    "\n",
    "# # These are the usual ipython objects, including this one you are creating\n",
    "# ipython_vars = ['In', 'Out', 'exit', 'quit', 'get_ipython', 'ipython_vars']\n",
    "\n",
    "# # Get a sorted list of the objects and their sizes\n",
    "# sorted([(x, sys.getsizeof(globals().get(x))/10**9) for x in dir() if not x.startswith('_') and x not in sys.modules and x not in ipython_vars], key=lambda x: x[1], reverse=True)"
   ]
  },
  {
   "cell_type": "code",
   "execution_count": 26,
   "metadata": {},
   "outputs": [],
   "source": [
    "def metric_at_K(metric_func, df_eval, column_name, K):\n",
    "    df_eval.sort_values(by=[column_name], ascending=False)[0:K]\n",
    "    metric_K = metric_func(df_eval[column_name].values, df_eval['is_same_intent'].values, False)\n",
    "    return metric_K"
   ]
  },
  {
   "cell_type": "markdown",
   "metadata": {},
   "source": [
    "#### evaluate BERT"
   ]
  },
  {
   "cell_type": "code",
   "execution_count": 27,
   "metadata": {},
   "outputs": [
    {
     "name": "stdout",
     "output_type": "stream",
     "text": [
      "CPU times: user 7.32 s, sys: 7.49 s, total: 14.8 s\n",
      "Wall time: 4.92 s\n"
     ]
    }
   ],
   "source": [
    "%%time\n",
    "def calc_dist_use(df):\n",
    "    emb_query_arr = np.stack(df['emb_bert_q'].values)\n",
    "    emb_data_arr = np.stack(df['emb_bert'].values)\n",
    "    angdist, cossim = sim_exact(emb_query_arr, emb_data_arr)\n",
    "    df['angdist_bert'] = angdist#.diagonal()\n",
    "    df['cossim_bert'] = cossim#.diagonal()    \n",
    "    return df\n",
    "\n",
    "df_eval = apply_by_chunks(df_eval, 30000, calc_dist_use)\n",
    "df_eval_by_angdist_bert = df_eval.sort_values(by=['angdist_bert'], ascending=False)[0:total_TP]\n",
    "df_eval_by_angdist_bert.head()"
   ]
  },
  {
   "cell_type": "code",
   "execution_count": 28,
   "metadata": {},
   "outputs": [
    {
     "data": {
      "image/png": "[encoded data removed]",
      "text/plain": [
       "<Figure size 432x288 with 1 Axes>"
      ]
     },
     "metadata": {
      "needs_background": "light"
     },
     "output_type": "display_data"
    }
   ],
   "source": [
    "MAP_DQ_bert = plot_precision_recall_curve(df_eval['angdist_bert'].values, df_eval['is_same_intent'].values)\n",
    "add_ev_res({'MAP_DQ':MAP_DQ_bert}, 'bert', bert_metadata, exp_metadata, data_metadata)"
   ]
  },
  {
   "cell_type": "code",
   "execution_count": 29,
   "metadata": {},
   "outputs": [
    {
     "data": {
      "image/png": "[encoded data removed]",
      "text/plain": [
       "<Figure size 432x288 with 1 Axes>"
      ]
     },
     "metadata": {
      "needs_background": "light"
     },
     "output_type": "display_data"
    }
   ],
   "source": [
    "MAP_TP_bert = plot_precision_recall_curve(df_eval_by_angdist_bert['angdist_bert'].values, df_eval_by_angdist_bert['is_same_intent'].values)\n",
    "add_ev_res({'MAP_TP':MAP_TP_bert}, 'bert', bert_metadata, exp_metadata, data_metadata)"
   ]
  },
  {
   "cell_type": "code",
   "execution_count": 30,
   "metadata": {},
   "outputs": [],
   "source": [
    "MAP_K15_bert = df_eval.groupby('intent_q').apply(lambda df_eval_intent: metric_at_K(plot_precision_recall_curve, df_eval_intent, 'angdist_bert', 15)).mean();\n",
    "add_ev_res({'MAP_K15':MAP_K15_bert}, 'bert', bert_metadata, exp_metadata, data_metadata)"
   ]
  },
  {
   "cell_type": "code",
   "execution_count": 31,
   "metadata": {},
   "outputs": [
    {
     "data": {
      "image/png": "[encoded data removed]",
      "text/plain": [
       "<Figure size 432x288 with 1 Axes>"
      ]
     },
     "metadata": {
      "needs_background": "light"
     },
     "output_type": "display_data"
    }
   ],
   "source": [
    "AUC_DQ_bert = plot_auc_curve(df_eval['angdist_bert'].values, df_eval['is_same_intent'].values)\n",
    "add_ev_res({'AUC_DQ':AUC_DQ_bert}, 'bert', bert_metadata, exp_metadata, data_metadata)"
   ]
  },
  {
   "cell_type": "code",
   "execution_count": 32,
   "metadata": {},
   "outputs": [
    {
     "data": {
      "image/png": "[encoded data removed]",
      "text/plain": [
       "<Figure size 432x288 with 1 Axes>"
      ]
     },
     "metadata": {
      "needs_background": "light"
     },
     "output_type": "display_data"
    }
   ],
   "source": [
    "AUC_TP_bert = plot_auc_curve(df_eval_by_angdist_bert['angdist_bert'].values, df_eval_by_angdist_bert['is_same_intent'].values)\n",
    "add_ev_res({'AUC_TP':AUC_TP_bert}, 'bert', bert_metadata, exp_metadata, data_metadata)"
   ]
  },
  {
   "cell_type": "code",
   "execution_count": 33,
   "metadata": {},
   "outputs": [],
   "source": [
    "AUC_K15_bert = df_eval.groupby('intent_q').apply(lambda df_eval_intent: metric_at_K(plot_auc_curve, df_eval_intent, 'angdist_bert', 15)).mean();\n",
    "add_ev_res({'AUC_K15':AUC_K15_bert}, 'bert', bert_metadata, exp_metadata, data_metadata)"
   ]
  },
  {
   "cell_type": "markdown",
   "metadata": {},
   "source": [
    "#### evaluate USE"
   ]
  },
  {
   "cell_type": "code",
   "execution_count": 34,
   "metadata": {},
   "outputs": [
    {
     "name": "stdout",
     "output_type": "stream",
     "text": [
      "CPU times: user 6.35 s, sys: 1.43 s, total: 7.77 s\n",
      "Wall time: 2.59 s\n"
     ]
    }
   ],
   "source": [
    "%%time\n",
    "def calc_dist_use(df):\n",
    "    emb_query_arr = np.stack(df['emb_use_q'].values)\n",
    "    emb_data_arr = np.stack(df['emb_use'].values)\n",
    "    angdist, cossim = sim_exact(emb_query_arr, emb_data_arr)\n",
    "    df['angdist_use'] = angdist#.diagonal()\n",
    "    df['cossim_use'] = cossim#.diagonal()    \n",
    "    return df\n",
    "\n",
    "df_eval = apply_by_chunks(df_eval, 30000, calc_dist_use)\n",
    "df_eval_res_by_angdist_use = df_eval.sort_values(by=['angdist_use'], ascending=False)[0:total_TP]"
   ]
  },
  {
   "cell_type": "code",
   "execution_count": 35,
   "metadata": {},
   "outputs": [
    {
     "data": {
      "image/png": "[encoded data removed]",
      "text/plain": [
       "<Figure size 432x288 with 1 Axes>"
      ]
     },
     "metadata": {
      "needs_background": "light"
     },
     "output_type": "display_data"
    }
   ],
   "source": [
    "MAP_DQ_use = plot_precision_recall_curve(df_eval['angdist_use'].values, df_eval['is_same_intent'].values)\n",
    "add_ev_res({'MAP_DQ':MAP_DQ_use}, 'use', use_metadata, exp_metadata, data_metadata)"
   ]
  },
  {
   "cell_type": "code",
   "execution_count": 36,
   "metadata": {},
   "outputs": [
    {
     "data": {
      "image/png": "[encoded data removed]",
      "text/plain": [
       "<Figure size 432x288 with 1 Axes>"
      ]
     },
     "metadata": {
      "needs_background": "light"
     },
     "output_type": "display_data"
    }
   ],
   "source": [
    "MAP_TP_use = plot_precision_recall_curve(df_eval_res_by_angdist_use['angdist_use'].values, df_eval_res_by_angdist_use['is_same_intent'].values)\n",
    "add_ev_res({'MAP_TP':MAP_TP_use}, 'use', use_metadata, exp_metadata, data_metadata)"
   ]
  },
  {
   "cell_type": "code",
   "execution_count": 37,
   "metadata": {},
   "outputs": [],
   "source": [
    "MAP_K15_use = df_eval.groupby('intent_q').apply(lambda df_eval_intent: metric_at_K(plot_precision_recall_curve, df_eval_intent, 'angdist_use', 15)).mean();\n",
    "add_ev_res({'MAP_K15':MAP_K15_use}, 'use', use_metadata, exp_metadata, data_metadata)"
   ]
  },
  {
   "cell_type": "code",
   "execution_count": 38,
   "metadata": {},
   "outputs": [
    {
     "data": {
      "image/png": "[encoded data removed]",
      "text/plain": [
       "<Figure size 432x288 with 1 Axes>"
      ]
     },
     "metadata": {
      "needs_background": "light"
     },
     "output_type": "display_data"
    }
   ],
   "source": [
    "AUC_DQ_use = plot_auc_curve(df_eval['angdist_use'].values, df_eval['is_same_intent'].values)\n",
    "add_ev_res({'AUC_DQ':AUC_DQ_use}, 'use', use_metadata, exp_metadata, data_metadata) "
   ]
  },
  {
   "cell_type": "code",
   "execution_count": 39,
   "metadata": {},
   "outputs": [
    {
     "data": {
      "image/png": "[encoded data removed]",
      "text/plain": [
       "<Figure size 432x288 with 1 Axes>"
      ]
     },
     "metadata": {
      "needs_background": "light"
     },
     "output_type": "display_data"
    }
   ],
   "source": [
    "AUC_TP_use = plot_auc_curve(df_eval_res_by_angdist_use['angdist_use'].values, df_eval_res_by_angdist_use['is_same_intent'].values)\n",
    "add_ev_res({'AUC_TP':AUC_TP_use}, 'use', use_metadata, exp_metadata, data_metadata)  "
   ]
  },
  {
   "cell_type": "code",
   "execution_count": 40,
   "metadata": {},
   "outputs": [],
   "source": [
    "AUC_K15_use = df_eval.groupby('intent_q').apply(lambda df_eval_intent: metric_at_K(plot_auc_curve, df_eval_intent, 'angdist_use', 15)).mean();\n",
    "add_ev_res({'AUC_K15':AUC_K15_use}, 'use', use_metadata, exp_metadata, data_metadata)"
   ]
  },
  {
   "cell_type": "markdown",
   "metadata": {},
   "source": [
    "#### save results"
   ]
  },
  {
   "cell_type": "code",
   "execution_count": 41,
   "metadata": {},
   "outputs": [
    {
     "data": {
      "text/plain": [
       "{'notebook': 'STS1-v2.6',\n",
       " 'encoder': 'bert',\n",
       " 'emb_metadata': {'version': '1.0',\n",
       "  'encoder': 'BERT',\n",
       "  'model': 'uncased_L-12_H-768_A-12',\n",
       "  'max_seq_len': 200,\n",
       "  'pooling_strategy': 'REDUCE_MEAN',\n",
       "  'pooling_layer': '-5',\n",
       "  'dimensions': 768},\n",
       " 'exp_metadata': {'msg_vector_desc': {'text': 'emb(1)'},\n",
       "  'fields': ['text',\n",
       "   'positive_product_type_tags',\n",
       "   'negative_product_type_tags',\n",
       "   'positive_aspects',\n",
       "   'negative_aspects']},\n",
       " 'metric': {'name': 'MAP_DQ', 'value': 0.4002890318987743},\n",
       " 'data_metadata': {'intents': ['Add to Wishlist',\n",
       "   'Back',\n",
       "   'Complementary',\n",
       "   'Customer Support',\n",
       "   'Frustration',\n",
       "   'Help',\n",
       "   'Introduction',\n",
       "   'More',\n",
       "   'New Facecare Regimen',\n",
       "   'Order Information',\n",
       "   'Product not found',\n",
       "   'Shop new arrivals'],\n",
       "  'data_query_stats': {'data': {'Add to Wishlist': 3,\n",
       "    'Back': 7,\n",
       "    'Complementary': 8,\n",
       "    'Customer Support': 150,\n",
       "    'Frustration': 6,\n",
       "    'Help': 10,\n",
       "    'Introduction': 5,\n",
       "    'More': 11,\n",
       "    'New Facecare Regimen': 29,\n",
       "    'Order Information': 193,\n",
       "    'Product not found': 145,\n",
       "    'Shop new arrivals': 1},\n",
       "   'query': {'Add to Wishlist': 1,\n",
       "    'Back': 3,\n",
       "    'Complementary': 3,\n",
       "    'Customer Support': 83,\n",
       "    'Frustration': 5,\n",
       "    'Help': 6,\n",
       "    'Introduction': 3,\n",
       "    'More': 6,\n",
       "    'New Facecare Regimen': 16,\n",
       "    'Order Information': 98,\n",
       "    'Product not found': 75,\n",
       "    'Shop new arrivals': 1},\n",
       "   'query_TP': {'Add to Wishlist': 3,\n",
       "    'Back': 21,\n",
       "    'Complementary': 24,\n",
       "    'Customer Support': 12450,\n",
       "    'Frustration': 30,\n",
       "    'Help': 60,\n",
       "    'Introduction': 15,\n",
       "    'More': 66,\n",
       "    'New Facecare Regimen': 464,\n",
       "    'Order Information': 18914,\n",
       "    'Product not found': 10875,\n",
       "    'Shop new arrivals': 1},\n",
       "   'Q/D ratio': {'Add to Wishlist': 0.333,\n",
       "    'Back': 0.429,\n",
       "    'Complementary': 0.375,\n",
       "    'Customer Support': 0.553,\n",
       "    'Frustration': 0.833,\n",
       "    'Help': 0.6,\n",
       "    'Introduction': 0.6,\n",
       "    'More': 0.545,\n",
       "    'New Facecare Regimen': 0.552,\n",
       "    'Order Information': 0.508,\n",
       "    'Product not found': 0.517,\n",
       "    'Shop new arrivals': 1.0}}}}"
      ]
     },
     "execution_count": 41,
     "metadata": {},
     "output_type": "execute_result"
    }
   ],
   "source": [
    "ev_results[0]"
   ]
  },
  {
   "cell_type": "code",
   "execution_count": 42,
   "metadata": {},
   "outputs": [
    {
     "data": {
      "text/plain": [
       "<pymongo.results.InsertManyResult at 0x125f1b5c8>"
      ]
     },
     "execution_count": 42,
     "metadata": {},
     "output_type": "execute_result"
    }
   ],
   "source": [
    "db.sts1_bert_use.insert_many(ev_results)"
   ]
  },
  {
   "cell_type": "code",
   "execution_count": null,
   "metadata": {},
   "outputs": [],
   "source": []
  }
 ],
 "metadata": {
  "kernelspec": {
   "display_name": "Python 3",
   "language": "python",
   "name": "python3"
  },
  "language_info": {
   "codemirror_mode": {
    "name": "ipython",
    "version": 3
   },
   "file_extension": ".py",
   "mimetype": "text/x-python",
   "name": "python",
   "nbconvert_exporter": "python",
   "pygments_lexer": "ipython3",
   "version": "3.6.6"
  }
 },
 "nbformat": 4,
 "nbformat_minor": 2
}
